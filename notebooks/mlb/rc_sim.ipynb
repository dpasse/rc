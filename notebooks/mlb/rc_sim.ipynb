{
 "cells": [
  {
   "cell_type": "code",
   "execution_count": 1,
   "metadata": {},
   "outputs": [],
   "source": [
    "import sys\n",
    "import math\n",
    "import random\n",
    "import numpy as np\n",
    "import pandas as pd\n",
    "import seaborn as sns\n",
    "\n",
    "sys.path.insert(0, '../../pipelines/tasks/mlb/')\n",
    "\n",
    "from common.sim.state import Inning\n",
    "from common.sim.models import BatterEventVariableFactory, EventCodes, all_event_codes, BattersFactory\n",
    "from common.sim.engines import InningSimulator"
   ]
  },
  {
   "cell_type": "code",
   "execution_count": null,
   "metadata": {},
   "outputs": [],
   "source": []
  },
  {
   "cell_type": "code",
   "execution_count": 2,
   "metadata": {},
   "outputs": [],
   "source": [
    "columns = ['PA', 'AB', 'SH', 'SF', 'K', 'BB', 'HBP', '1B', '2B', '3B', 'HR', 'R', 'G']"
   ]
  },
  {
   "cell_type": "code",
   "execution_count": 3,
   "metadata": {},
   "outputs": [],
   "source": [
    "df_players = pd.read_csv('../../data/mlb/batting/player_aggregates.csv', index_col=None)\n",
    "df_players.season = df_players.season.astype(str)\n",
    "df_players = df_players[np.logical_and(df_players.player == 'correca01', df_players.season == '2022')]\n",
    "df_players = df_players.rename(columns={\n",
    "    'SO': 'K'\n",
    "})\n",
    "\n",
    "correa = df_players[columns].to_dict('records')[0]\n",
    "\n",
    "ichiro = {\n",
    "    'AB': 704, ## Appearance\n",
    "    'SH': 2, ## Sac Bunts\n",
    "    'SF': 3, ## Sac Flys\n",
    "    'K': 63,\n",
    "    'BB': 49,\n",
    "    'HBP': 4,\n",
    "    '1B': 225,\n",
    "    '2B': 24,\n",
    "    '3B': 5,\n",
    "    'HR': 8\n",
    "}\n",
    "\n",
    "df_teams = pd.read_csv('../../data/mlb/batting/season_aggregates.csv', index_col=None)\n",
    "df_teams.season = df_teams.season.astype(str)\n",
    "df_teams = df_teams[df_teams.season == '2022']\n",
    "df_teams = df_teams.rename(columns={\n",
    "    'SO': 'K'\n",
    "})\n",
    "\n",
    "avg_team = df_teams[columns].mean().to_frame().T.to_dict('records')[0]\n",
    "for key in avg_team.keys():\n",
    "    avg_team[key] = math.floor(avg_team[key])\n",
    "    \n",
    "avg_team['R/G'] = avg_team['R'] / avg_team['G']\n",
    "\n",
    "twins_columns = columns + ['R/G']\n",
    "twins = df_teams.loc[df_teams.team == 17, columns + ['R/G']].to_dict('records')[0]"
   ]
  },
  {
   "cell_type": "code",
   "execution_count": 4,
   "metadata": {},
   "outputs": [],
   "source": [
    "avg_innings_per_game = (26.72 / 3)\n",
    "\n",
    "def run_simulation(batters, iterations=50000):\n",
    "    inning_simulator = InningSimulator(batters)\n",
    "\n",
    "    runs = 0\n",
    "    for i in range(iterations):\n",
    "        inning = inning_simulator.play()\n",
    "        runs += inning.history[-1].runs\n",
    "\n",
    "    return runs / iterations"
   ]
  },
  {
   "cell_type": "code",
   "execution_count": null,
   "metadata": {},
   "outputs": [],
   "source": []
  },
  {
   "attachments": {},
   "cell_type": "markdown",
   "metadata": {},
   "source": [
    "#### Ichiro - 2004"
   ]
  },
  {
   "cell_type": "code",
   "execution_count": 5,
   "metadata": {},
   "outputs": [
    {
     "name": "stdout",
     "output_type": "stream",
     "text": [
      "0.80294\n",
      "7.151518933333333 runs per game\n",
      "1158.5460672 runs per season\n"
     ]
    }
   ],
   "source": [
    "batters = BattersFactory().create_batters([\n",
    "    ('ichiro', ichiro, 1)\n",
    "])\n",
    "\n",
    "ichiro_runs = run_simulation(batters)\n",
    "\n",
    "print(ichiro_runs)\n",
    "print(ichiro_runs * avg_innings_per_game, 'runs per game')\n",
    "\n",
    "runs_per_season = (ichiro_runs * avg_innings_per_game) * 162\n",
    "print(runs_per_season, 'runs per season')"
   ]
  },
  {
   "attachments": {},
   "cell_type": "markdown",
   "metadata": {},
   "source": [
    "#### Average Team - 2022"
   ]
  },
  {
   "cell_type": "code",
   "execution_count": 6,
   "metadata": {},
   "outputs": [
    {
     "name": "stdout",
     "output_type": "stream",
     "text": [
      "0.4653\n",
      "4.144272 runs per game vs 4.277777777777778\n",
      "671.372064 runs per season\n"
     ]
    }
   ],
   "source": [
    "batters = BattersFactory().create_batters([\n",
    "    ('avg_team', avg_team, 1)\n",
    "])\n",
    "\n",
    "avg_team_runs = run_simulation(batters)\n",
    "\n",
    "print(avg_team_runs)\n",
    "print(avg_team_runs * avg_innings_per_game, 'runs per game', 'vs', avg_team['R/G'])\n",
    "print((avg_team_runs * avg_innings_per_game) * 162, 'runs per season')"
   ]
  },
  {
   "attachments": {},
   "cell_type": "markdown",
   "metadata": {},
   "source": [
    "#### Correa - 2022"
   ]
  },
  {
   "cell_type": "code",
   "execution_count": 7,
   "metadata": {},
   "outputs": [
    {
     "name": "stdout",
     "output_type": "stream",
     "text": [
      "0.67742\n",
      "6.033554133333333 runs per game\n",
      "977.4357696 runs per season\n"
     ]
    }
   ],
   "source": [
    "batters = BattersFactory().create_batters([\n",
    "    ('correa', correa, 1)\n",
    "])\n",
    "\n",
    "correa_runs = run_simulation(batters)\n",
    "\n",
    "print(correa_runs)\n",
    "print(correa_runs * avg_innings_per_game, 'runs per game')\n",
    "print((correa_runs * avg_innings_per_game) * 162, 'runs per season')"
   ]
  },
  {
   "attachments": {},
   "cell_type": "markdown",
   "metadata": {},
   "source": [
    "#### Correa on Average Team - 2022"
   ]
  },
  {
   "cell_type": "code",
   "execution_count": 8,
   "metadata": {},
   "outputs": [
    {
     "name": "stdout",
     "output_type": "stream",
     "text": [
      "0.4867\n",
      "4.334874666666667 runs per game\n",
      "702.2496960000001 runs per season\n"
     ]
    }
   ],
   "source": [
    "correa_hits_prob = correa['PA'] / avg_team['PA']\n",
    "avg_team_hits_prob = 1 - correa_hits_prob\n",
    "\n",
    "## have correa play ~ 9 % of the PA for an avg team\n",
    "batters = BattersFactory().create_batters([\n",
    "    ('correa', correa, correa_hits_prob),\n",
    "    ('avg_team', avg_team, avg_team_hits_prob)\n",
    "])\n",
    "\n",
    "correa_avg_team_runs = run_simulation(batters)\n",
    "\n",
    "print(correa_avg_team_runs)\n",
    "print(correa_avg_team_runs * avg_innings_per_game, 'runs per game')\n",
    "print((correa_avg_team_runs * avg_innings_per_game) * 162, 'runs per season')"
   ]
  },
  {
   "attachments": {},
   "cell_type": "markdown",
   "metadata": {},
   "source": [
    "#### Twins - 2022"
   ]
  },
  {
   "cell_type": "code",
   "execution_count": 9,
   "metadata": {},
   "outputs": [
    {
     "name": "stdout",
     "output_type": "stream",
     "text": [
      "0.47726\n",
      "4.250795733333334 runs per game vs 4.3\n",
      "688.6289088000001 runs per season vs 696.6\n"
     ]
    }
   ],
   "source": [
    "batters = BattersFactory().create_batters([\n",
    "    ('twins', twins, 1),\n",
    "])\n",
    "\n",
    "twins_runs = run_simulation(batters)\n",
    "\n",
    "print(twins_runs)\n",
    "print(twins_runs * avg_innings_per_game, 'runs per game', 'vs', twins['R/G'])\n",
    "twins_runs_per_season = (twins_runs * avg_innings_per_game) * 162\n",
    "print(twins_runs_per_season, 'runs per season', 'vs', twins['R/G'] * 162)"
   ]
  },
  {
   "attachments": {},
   "cell_type": "markdown",
   "metadata": {},
   "source": [
    "#### Twins minus Correa - 2022"
   ]
  },
  {
   "cell_type": "code",
   "execution_count": 10,
   "metadata": {},
   "outputs": [],
   "source": [
    "def remove_player_from_team(team, player):\n",
    "    team_minus_player = team.copy()\n",
    "\n",
    "    for key in player.keys():\n",
    "        team_minus_player[key] = team_minus_player[key] - player[key]\n",
    "\n",
    "    return team_minus_player"
   ]
  },
  {
   "cell_type": "code",
   "execution_count": 11,
   "metadata": {},
   "outputs": [
    {
     "name": "stdout",
     "output_type": "stream",
     "text": [
      "0.46206\n",
      "4.1154144 runs per game\n",
      "666.6971328 runs per season\n"
     ]
    }
   ],
   "source": [
    "batters = BattersFactory().create_batters([\n",
    "    ('twins_minus_correa', remove_player_from_team(twins, correa), 1),\n",
    "])\n",
    "\n",
    "twins_minus_correa_runs = run_simulation(batters)\n",
    "\n",
    "print(twins_minus_correa_runs)\n",
    "print(twins_minus_correa_runs * avg_innings_per_game, 'runs per game')\n",
    "\n",
    "twins_minus_correa_runs_per_season = (twins_minus_correa_runs * avg_innings_per_game) * 162\n",
    "print(twins_minus_correa_runs_per_season, 'runs per season')"
   ]
  },
  {
   "attachments": {},
   "cell_type": "markdown",
   "metadata": {},
   "source": [
    "#### Wins Created by Correa for 2022 Twins"
   ]
  },
  {
   "cell_type": "code",
   "execution_count": 12,
   "metadata": {},
   "outputs": [
    {
     "name": "stdout",
     "output_type": "stream",
     "text": [
      "wins w/out correa: 78.89399999999999\n",
      "wins w correa: 81.486\n",
      "wins created: 2.592000000000013\n"
     ]
    }
   ],
   "source": [
    "## 82-80, 696 Runs, 684 Runs Allowed\n",
    "\n",
    "runs_allowed = 684\n",
    "\n",
    "def pythagorean(runs_scored, runs_allowed, exp = 2):\n",
    "    rate = (runs_scored / runs_allowed) ** exp\n",
    "    return round(rate / (rate + 1), 3)\n",
    "\n",
    "print('wins w/out correa:', pythagorean(twins_minus_correa_runs_per_season, runs_allowed) * 162)\n",
    "print('wins w correa:', pythagorean(twins_runs_per_season, runs_allowed) * 162)\n",
    "\n",
    "print(\n",
    "    'wins created:',\n",
    "    (pythagorean(twins_runs_per_season, runs_allowed) * 162) - (pythagorean(twins_minus_correa_runs_per_season, runs_allowed) * 162)\n",
    ")"
   ]
  },
  {
   "cell_type": "code",
   "execution_count": null,
   "metadata": {},
   "outputs": [],
   "source": []
  }
 ],
 "metadata": {
  "kernelspec": {
   "display_name": "rc",
   "language": "python",
   "name": "python3"
  },
  "language_info": {
   "codemirror_mode": {
    "name": "ipython",
    "version": 3
   },
   "file_extension": ".py",
   "mimetype": "text/x-python",
   "name": "python",
   "nbconvert_exporter": "python",
   "pygments_lexer": "ipython3",
   "version": "3.9.13 (main, May 24 2022, 21:28:31) \n[Clang 13.1.6 (clang-1316.0.21.2)]"
  },
  "orig_nbformat": 4,
  "vscode": {
   "interpreter": {
    "hash": "95020b902a2df746e83905ddddf9b388e83686c9ac0c7e3287244bbc1a1e2884"
   }
  }
 },
 "nbformat": 4,
 "nbformat_minor": 2
}
