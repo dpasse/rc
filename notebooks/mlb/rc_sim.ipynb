{
 "cells": [
  {
   "cell_type": "code",
   "execution_count": 11,
   "metadata": {},
   "outputs": [],
   "source": [
    "from enum import Enum\n",
    "import random"
   ]
  },
  {
   "cell_type": "code",
   "execution_count": null,
   "metadata": {},
   "outputs": [],
   "source": []
  },
  {
   "attachments": {},
   "cell_type": "markdown",
   "metadata": {},
   "source": [
    "## Simple Example\n",
    "> player has a 50% chance of hitting a HR or getting an OUT."
   ]
  },
  {
   "cell_type": "code",
   "execution_count": 12,
   "metadata": {},
   "outputs": [
    {
     "data": {
      "text/plain": [
       "2.958"
      ]
     },
     "execution_count": 12,
     "metadata": {},
     "output_type": "execute_result"
    }
   ],
   "source": [
    "def play_inning():\n",
    "    hrs = 0\n",
    "    number_of_outs = 0\n",
    "\n",
    "    while number_of_outs < 3:\n",
    "        if random.randint(0, 1) == 1:\n",
    "            hrs += 1\n",
    "        else:\n",
    "            number_of_outs += 1\n",
    "\n",
    "    return hrs\n",
    "\n",
    "outcomes = 0\n",
    "iterations = 1000\n",
    "for _ in range(1000):\n",
    "    outcomes += play_inning()\n",
    "\n",
    "outcomes / iterations ## expected === 3.0"
   ]
  },
  {
   "cell_type": "code",
   "execution_count": null,
   "metadata": {},
   "outputs": [],
   "source": []
  },
  {
   "attachments": {},
   "cell_type": "markdown",
   "metadata": {},
   "source": [
    "## Runs Created Example"
   ]
  },
  {
   "cell_type": "code",
   "execution_count": 13,
   "metadata": {},
   "outputs": [
    {
     "data": {
      "text/plain": [
       "{'bases': [0, 1, 1], 'runs': 0, 'outs': 2}"
      ]
     },
     "execution_count": 13,
     "metadata": {},
     "output_type": "execute_result"
    }
   ],
   "source": [
    "class EventCodes(Enum):\n",
    "    Strikeout = 1\n",
    "    Walk = 2\n",
    "    HBP = 3\n",
    "    Error = 4\n",
    "    LongSingle = 5\n",
    "    MediumSingle = 6\n",
    "    ShortSingle = 7\n",
    "    ShortDouble = 8\n",
    "    LongDouble = 9\n",
    "    Triple = 10\n",
    "    HR = 11\n",
    "    GIDP = 12\n",
    "    NormalGroundBall = 13\n",
    "    LineDriveInfieldFly = 14\n",
    "    LongFly = 15\n",
    "    MediumFly = 16\n",
    "    ShortFly = 17\n",
    "\n",
    "Single = [EventCodes.Walk, EventCodes.HBP, EventCodes.LongSingle, EventCodes.MediumSingle, EventCodes.ShortSingle]\n",
    "Double = [EventCodes.ShortDouble, EventCodes.LongDouble]\n",
    "OnBase = Single + [EventCodes.Error]\n",
    "SingleOut = [\n",
    "    EventCodes.Strikeout,\n",
    "    EventCodes.ShortFly,\n",
    "    EventCodes.MediumFly,\n",
    "    EventCodes.LongFly,\n",
    "    EventCodes.LineDriveInfieldFly,\n",
    "    EventCodes.NormalGroundBall,\n",
    "    EventCodes.GIDP\n",
    "]\n",
    "\n",
    "def execute_event_on_state(state: dict, event: EventCodes) -> dict:\n",
    "    if event == event.GIDP:\n",
    "        if state['bases'] == [1, 0, 0] or state['bases'] == [1, 1, 0] or state['bases'] == [1, 0, 1] or state['bases'] == [1, 1, 1]:\n",
    "            state['outs'] += 1\n",
    "        else:\n",
    "            ## not a double play scenario\n",
    "            event = EventCodes.NormalGroundBall\n",
    "\n",
    "    if event in SingleOut:\n",
    "        state['outs'] += 1\n",
    "\n",
    "    if state['outs'] == 3:\n",
    "        return state\n",
    "\n",
    "    if event == EventCodes.Error:\n",
    "        state['bases'] = [1] + state['bases']\n",
    "\n",
    "    elif event == EventCodes.NormalGroundBall:\n",
    "        if state['bases'] == [0,0,1]:\n",
    "            state['bases'] = [0] + state['bases']\n",
    "\n",
    "        if state['bases'] == [0,1,0]:\n",
    "            state['bases'] = [0] + state['bases']\n",
    "\n",
    "    elif event == EventCodes.GIDP:\n",
    "        if state['bases'] == [1, 0, 0]:\n",
    "            state['bases'] = [0, 0, 0]\n",
    "\n",
    "        elif state['bases'] == [1, 1, 0]:\n",
    "            state['bases'] = [1, 0, 0]\n",
    "\n",
    "        elif state['bases'] == [1, 0, 1]:\n",
    "            state['bases'] = [0, 0] + state['bases'][1:]\n",
    "\n",
    "        elif state['bases'] == [1, 1, 1]:\n",
    "            state['bases'] = [0, 1, 1]\n",
    "\n",
    "    elif event in Single:\n",
    "        if event == EventCodes.LongSingle:\n",
    "            state['bases'] = [0] + state['bases']\n",
    "\n",
    "        if event == EventCodes.MediumSingle:\n",
    "            state['bases'] = state['bases'][:1] + [0, 0] + state['bases'][1:]\n",
    "    \n",
    "        state['bases'] = [1] + state['bases']\n",
    "\n",
    "    elif event == EventCodes.LongFly:\n",
    "        if state['bases'][2] == 1:\n",
    "            ## third advances\n",
    "            state['bases'] = state['bases'][:2] + [0] + state['bases'][2:]\n",
    "\n",
    "        elif state['bases'][1] == 1:\n",
    "            ## second advances\n",
    "            state['bases'] = state['bases'][:1] + [0] + state['bases'][1:]\n",
    "\n",
    "    elif event == EventCodes.MediumFly:\n",
    "        state['bases'] = state['bases'][:2] + [0] + state['bases'][2:]\n",
    "\n",
    "    elif event in Double:\n",
    "        if event == EventCodes.LongDouble:\n",
    "            state['bases'] = [0] + state['bases']\n",
    "\n",
    "        state['bases'] = [0, 1] + state['bases']\n",
    "\n",
    "    elif event == EventCodes.Triple:\n",
    "        state['bases'] = [0, 0, 1] + state['bases']\n",
    "\n",
    "    elif event == EventCodes.HR:\n",
    "        state['bases'] = [0, 0, 0, 1] + state['bases']\n",
    "\n",
    "    state['runs'] += sum(state['bases'][3:])\n",
    "    state['bases'] = state['bases'][:3]\n",
    "\n",
    "    return state\n",
    "\n",
    "\n",
    "execute_event_on_state({ 'bases': [1,1,1], 'runs': 0, 'outs': 0}, EventCodes.GIDP)"
   ]
  },
  {
   "cell_type": "code",
   "execution_count": 14,
   "metadata": {},
   "outputs": [],
   "source": [
    "def create_historical_record(current_state, event):\n",
    "    outcome = current_state.copy()\n",
    "\n",
    "    outcome['event'] = event\n",
    "    outcome['desc'] = f'{event.name}'\n",
    "\n",
    "    return outcome"
   ]
  },
  {
   "cell_type": "code",
   "execution_count": 15,
   "metadata": {},
   "outputs": [
    {
     "data": {
      "text/plain": [
       "[{'bases': [0, 0, 0],\n",
       "  'runs': 0,\n",
       "  'outs': 1,\n",
       "  'event': <EventCodes.LineDriveInfieldFly: 14>,\n",
       "  'desc': 'LineDriveInfieldFly'},\n",
       " {'bases': [0, 0, 0],\n",
       "  'runs': 0,\n",
       "  'outs': 2,\n",
       "  'event': <EventCodes.MediumFly: 16>,\n",
       "  'desc': 'MediumFly'},\n",
       " {'bases': [1, 0, 0],\n",
       "  'runs': 0,\n",
       "  'outs': 2,\n",
       "  'event': <EventCodes.LongSingle: 5>,\n",
       "  'desc': 'LongSingle'},\n",
       " {'bases': [1, 1, 0],\n",
       "  'runs': 0,\n",
       "  'outs': 2,\n",
       "  'event': <EventCodes.ShortSingle: 7>,\n",
       "  'desc': 'ShortSingle'},\n",
       " {'bases': [1, 1, 1],\n",
       "  'runs': 0,\n",
       "  'outs': 2,\n",
       "  'event': <EventCodes.ShortSingle: 7>,\n",
       "  'desc': 'ShortSingle'},\n",
       " {'bases': [1, 1, 1],\n",
       "  'runs': 0,\n",
       "  'outs': 3,\n",
       "  'event': <EventCodes.LongFly: 15>,\n",
       "  'desc': 'LongFly'}]"
      ]
     },
     "execution_count": 15,
     "metadata": {},
     "output_type": "execute_result"
    }
   ],
   "source": [
    "def play_half_inning():\n",
    "    current_state = {\n",
    "        'bases': [0, 0, 0],\n",
    "        'runs': 0,\n",
    "        'outs': 0,\n",
    "    }\n",
    "\n",
    "    history = []\n",
    "    while current_state['outs'] < 3:\n",
    "\n",
    "        event = random.choice(list(EventCodes.__members__.values()))\n",
    "        current_state = execute_event_on_state(current_state, event)\n",
    "\n",
    "        history.append(\n",
    "            create_historical_record(current_state, event)\n",
    "        )\n",
    "\n",
    "    return history\n",
    "\n",
    "play_half_inning()"
   ]
  }
 ],
 "metadata": {
  "kernelspec": {
   "display_name": "Python 3",
   "language": "python",
   "name": "python3"
  },
  "language_info": {
   "codemirror_mode": {
    "name": "ipython",
    "version": 3
   },
   "file_extension": ".py",
   "mimetype": "text/x-python",
   "name": "python",
   "nbconvert_exporter": "python",
   "pygments_lexer": "ipython3",
   "version": "3.9.13"
  },
  "orig_nbformat": 4,
  "vscode": {
   "interpreter": {
    "hash": "aee8b7b246df8f9039afb4144a1f6fd8d2ca17a180786b69acc140d282b71a49"
   }
  }
 },
 "nbformat": 4,
 "nbformat_minor": 2
}
