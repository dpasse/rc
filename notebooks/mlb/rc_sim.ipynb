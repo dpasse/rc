{
 "cells": [
  {
   "cell_type": "code",
   "execution_count": 1,
   "metadata": {},
   "outputs": [],
   "source": [
    "from enum import Enum\n",
    "\n",
    "import math\n",
    "import random"
   ]
  },
  {
   "cell_type": "code",
   "execution_count": null,
   "metadata": {},
   "outputs": [],
   "source": []
  },
  {
   "attachments": {},
   "cell_type": "markdown",
   "metadata": {},
   "source": [
    "## Simple Example\n",
    "> player has a 50% chance of hitting a HR or getting an OUT."
   ]
  },
  {
   "cell_type": "code",
   "execution_count": 2,
   "metadata": {},
   "outputs": [
    {
     "data": {
      "text/plain": [
       "3.001"
      ]
     },
     "execution_count": 2,
     "metadata": {},
     "output_type": "execute_result"
    }
   ],
   "source": [
    "def play_inning():\n",
    "    hrs = 0\n",
    "    number_of_outs = 0\n",
    "\n",
    "    while number_of_outs < 3:\n",
    "        if random.randint(0, 1) == 1:\n",
    "            hrs += 1\n",
    "        else:\n",
    "            number_of_outs += 1\n",
    "\n",
    "    return hrs\n",
    "\n",
    "outcomes = 0\n",
    "iterations = 1000\n",
    "for _ in range(1000):\n",
    "    outcomes += play_inning()\n",
    "\n",
    "outcomes / iterations ## expected === 3.0"
   ]
  },
  {
   "cell_type": "code",
   "execution_count": null,
   "metadata": {},
   "outputs": [],
   "source": []
  },
  {
   "attachments": {},
   "cell_type": "markdown",
   "metadata": {},
   "source": [
    "## Runs Created Example"
   ]
  },
  {
   "cell_type": "code",
   "execution_count": 3,
   "metadata": {},
   "outputs": [
    {
     "data": {
      "text/plain": [
       "{'bases': [1, 0, 0], 'runs': 0, 'outs': 3}"
      ]
     },
     "execution_count": 3,
     "metadata": {},
     "output_type": "execute_result"
    }
   ],
   "source": [
    "class EventCodes(Enum):\n",
    "    Strikeout = 1\n",
    "    Walk = 2\n",
    "    HBP = 3\n",
    "    Error = 4\n",
    "    LongSingle = 5\n",
    "    MediumSingle = 6\n",
    "    ShortSingle = 7\n",
    "    ShortDouble = 8\n",
    "    LongDouble = 9\n",
    "    Triple = 10\n",
    "    HR = 11\n",
    "    GIDP = 12\n",
    "    NormalGroundBall = 13\n",
    "    LineDriveInfieldFly = 14\n",
    "    LongFly = 15\n",
    "    MediumFly = 16\n",
    "    ShortFly = 17\n",
    "\n",
    "Single = [EventCodes.Walk, EventCodes.HBP, EventCodes.LongSingle, EventCodes.MediumSingle, EventCodes.ShortSingle]\n",
    "Double = [EventCodes.ShortDouble, EventCodes.LongDouble]\n",
    "OnBase = Single + [EventCodes.Error]\n",
    "SingleOut = [\n",
    "    EventCodes.Strikeout,\n",
    "    EventCodes.ShortFly,\n",
    "    EventCodes.MediumFly,\n",
    "    EventCodes.LongFly,\n",
    "    EventCodes.LineDriveInfieldFly,\n",
    "    EventCodes.NormalGroundBall,\n",
    "    EventCodes.GIDP\n",
    "]\n",
    "\n",
    "def validate_event_against_state(state: dict, event: EventCodes) -> EventCodes:\n",
    "    if event == event.GIDP:\n",
    "        if state['outs'] == 2:\n",
    "            return EventCodes.NormalGroundBall\n",
    "\n",
    "        is_double_play = state['bases'] == [1, 0, 0] or state['bases'] == [1, 1, 0] or state['bases'] == [1, 0, 1] or state['bases'] == [1, 1, 1]\n",
    "        if not is_double_play:\n",
    "            return EventCodes.NormalGroundBall\n",
    "        \n",
    "    return event\n",
    "\n",
    "\n",
    "def execute_event_on_state(state: dict, event: EventCodes) -> dict:\n",
    "    if event in SingleOut:\n",
    "        state['outs'] += 1\n",
    "\n",
    "    if state['outs'] == 3:\n",
    "        return state\n",
    "\n",
    "    if event == EventCodes.Error:\n",
    "        state['bases'] = [1] + state['bases']\n",
    "\n",
    "    elif event == EventCodes.NormalGroundBall:\n",
    "        if state['bases'] == [0, 0, 1]:\n",
    "            state['bases'] = [0] + state['bases']\n",
    "\n",
    "        if state['bases'] == [0, 1, 0]:\n",
    "            state['bases'] = [0] + state['bases']\n",
    "\n",
    "    elif event == EventCodes.GIDP:\n",
    "        if state['bases'] == [1, 0, 0]:\n",
    "            state['bases'] = [0, 0, 0]\n",
    "\n",
    "        elif state['bases'] == [1, 1, 0]:\n",
    "            state['bases'] = [1, 0, 0]\n",
    "\n",
    "        elif state['bases'] == [1, 0, 1]:\n",
    "            state['bases'] = [0, 0, 1]\n",
    "\n",
    "        elif state['bases'] == [1, 1, 1]:\n",
    "            state['bases'] = [0, 1, 1]\n",
    "\n",
    "    elif event in Single:\n",
    "        if event == EventCodes.LongSingle:\n",
    "            state['bases'] = [0] + state['bases']\n",
    "\n",
    "        if event == EventCodes.MediumSingle:\n",
    "            state['bases'] = state['bases'][:1] + [0, 0] + state['bases'][1:]\n",
    "    \n",
    "        state['bases'] = [1] + state['bases']\n",
    "\n",
    "    elif event == EventCodes.LongFly:\n",
    "        state['bases'] = state['bases'][:1] + [0] + state['bases'][1:]\n",
    "\n",
    "    elif event == EventCodes.MediumFly:\n",
    "        state['bases'] = state['bases'][:2] + [0] + state['bases'][2:]\n",
    "\n",
    "    elif event in Double:\n",
    "        if event == EventCodes.LongDouble:\n",
    "            state['bases'] = [0] + state['bases']\n",
    "\n",
    "        state['bases'] = [0, 1] + state['bases']\n",
    "\n",
    "    elif event == EventCodes.Triple:\n",
    "        state['bases'] = [0, 0, 1] + state['bases']\n",
    "\n",
    "    elif event == EventCodes.HR:\n",
    "        state['bases'] = [0, 0, 0, 1] + state['bases']\n",
    "\n",
    "    state['runs'] += sum(state['bases'][3:])\n",
    "    state['bases'] = state['bases'][:3]\n",
    "\n",
    "    return state\n",
    "\n",
    "event = EventCodes.GIDP\n",
    "state = { 'bases': [1,0,0], 'runs': 0, 'outs': 2}\n",
    "event = validate_event_against_state(state, event)\n",
    "execute_event_on_state(state, event)"
   ]
  },
  {
   "cell_type": "code",
   "execution_count": 4,
   "metadata": {},
   "outputs": [],
   "source": [
    "def create_historical_record(current_state, event):\n",
    "    outcome = current_state.copy()\n",
    "\n",
    "    outcome['event'] = event\n",
    "    outcome['desc'] = f'{event.name}'\n",
    "\n",
    "    return outcome"
   ]
  },
  {
   "cell_type": "code",
   "execution_count": 5,
   "metadata": {},
   "outputs": [],
   "source": [
    "## baseball ref\n",
    "\n",
    "## PA == PA\n",
    "## AB == AB\n",
    "## SB == SH"
   ]
  },
  {
   "cell_type": "code",
   "execution_count": 6,
   "metadata": {},
   "outputs": [
    {
     "data": {
      "text/plain": [
       "{'E': 0.01706036745406824,\n",
       " 'Outs': 0.4868766404199475,\n",
       " 'K': 0.08267716535433071,\n",
       " 'BB': 0.06430446194225722,\n",
       " 'HBP': 0.005249343832020997,\n",
       " '1B': 0.2952755905511811,\n",
       " '2B': 0.031496062992125984,\n",
       " '3B': 0.006561679790026247,\n",
       " 'HR': 0.010498687664041995}"
      ]
     },
     "execution_count": 6,
     "metadata": {},
     "output_type": "execute_result"
    }
   ],
   "source": [
    "\n",
    "data = {\n",
    "    'AB': 704, ## Appearance\n",
    "    'SB': 2, ## Sac Bunts\n",
    "    'SF': 3, ## Sac Flys\n",
    "    'K': 63,\n",
    "    'BB': 49,\n",
    "    'HBP': 4,\n",
    "    '1B': 225,\n",
    "    '2B': 24,\n",
    "    '3B': 5,\n",
    "    'HR': 8\n",
    "}\n",
    "\n",
    "class PlayerStats():\n",
    "    def __init__(self, data):\n",
    "        self.data = data\n",
    "\n",
    "        for key in ['SB', 'SF', 'K', 'BB', 'HBP', '1B', '2B', '3B', 'HR']:\n",
    "            assert key in self.data\n",
    "\n",
    "        assert 'PA' in self.data or 'AB' in self.data\n",
    "\n",
    "        self.data['HITS'] = sum([ self.data[key] for key in ['1B', '2B', '3B', 'HR']])\n",
    "\n",
    "        if not 'PA' in self.data:\n",
    "            self.data['PA'] = sum([ self.data[key] for key in ['BB', 'HBP', 'AB', 'SB', 'SF']])\n",
    "\n",
    "        self.data['E'] = math.floor(.018 * self.data['PA'])\n",
    "        self.data['AtBats'] = sum([ self.data[key] for key in ['AB', 'SF', 'SB']])\n",
    "        self.data['Outs'] = self.data['AtBats'] - sum([ self.data[key] for key in ['HITS', 'E', 'K']])\n",
    "\n",
    "    def likelihoods(self):\n",
    "        keys = [\n",
    "            'E',\n",
    "            'Outs',\n",
    "            'K',\n",
    "            'BB',\n",
    "            'HBP',\n",
    "            '1B',\n",
    "            '2B',\n",
    "            '3B',\n",
    "            'HR'\n",
    "        ]\n",
    "\n",
    "        lh = {}\n",
    "        for key in keys:\n",
    "            lh[key] = self.data[key] / self.data['PA']\n",
    "        \n",
    "        return lh\n",
    "\n",
    "\n",
    "player_stats = PlayerStats(data)\n",
    "player_stats.likelihoods()"
   ]
  },
  {
   "cell_type": "code",
   "execution_count": 7,
   "metadata": {},
   "outputs": [],
   "source": [
    "class EventVariables():\n",
    "    def __init__(self, key, probability, eventCode=None, children = []):\n",
    "        self.key = key\n",
    "        self.probability = probability\n",
    "        self.children = children\n",
    "        self.eventCode = eventCode\n",
    "\n",
    "    def __repr__(self):\n",
    "        return f'<EventVariables {self.key} {self.probability}>'\n",
    "\n",
    "class EventVariableFactory():\n",
    "    def create(self, likelihoods):\n",
    "        return [\n",
    "            EventVariables(\n",
    "                key='Error',\n",
    "                probability=likelihoods['E'],\n",
    "                eventCode=EventCodes.Error\n",
    "            ),\n",
    "            EventVariables(\n",
    "                key='Outs',\n",
    "                probability=likelihoods['Outs'],\n",
    "                children=[\n",
    "                    ## Grounders\n",
    "                    EventVariables(\n",
    "                        key='Ground Out',\n",
    "                        probability=.538,\n",
    "                        children=[\n",
    "                            EventVariables(\n",
    "                                key='Double Play',\n",
    "                                probability=.5,\n",
    "                                eventCode=EventCodes.GIDP\n",
    "                            ),\n",
    "                            EventVariables(\n",
    "                                key='Normal Ground Out',\n",
    "                                probability=.5,\n",
    "                                eventCode=EventCodes.NormalGroundBall\n",
    "                            )\n",
    "                        ]\n",
    "                    ),\n",
    "                    ## Infield\n",
    "                    EventVariables(\n",
    "                        key='Infield Fly / Line Drive',\n",
    "                        probability=.153,\n",
    "                        eventCode=EventCodes.LineDriveInfieldFly\n",
    "                    ),\n",
    "                    ## Fly\n",
    "                    EventVariables(\n",
    "                        key='Fly Out',\n",
    "                        probability=.309,\n",
    "                        children=[\n",
    "                            EventVariables(\n",
    "                                key='Long Fly Out',\n",
    "                                probability=.2,\n",
    "                                eventCode=EventCodes.LongFly\n",
    "                            ),\n",
    "                            EventVariables(\n",
    "                                key='Medium Fly Out',\n",
    "                                probability=.5,\n",
    "                                eventCode=EventCodes.MediumFly\n",
    "                            ),\n",
    "                            EventVariables(\n",
    "                                key='Short Fly Out',\n",
    "                                probability=.3,\n",
    "                                eventCode=EventCodes.ShortFly\n",
    "                            )\n",
    "                        ]\n",
    "                    )\n",
    "                ]\n",
    "            ),\n",
    "            EventVariables(\n",
    "                key='K',\n",
    "                probability=likelihoods['K'],\n",
    "                eventCode=EventCodes.Strikeout\n",
    "            ),\n",
    "            EventVariables(\n",
    "                key='BB',\n",
    "                probability=likelihoods['BB'],\n",
    "                eventCode=EventCodes.Walk\n",
    "            ),\n",
    "            EventVariables(\n",
    "                key='HBP',\n",
    "                probability=likelihoods['HBP'],\n",
    "                eventCode=EventCodes.HBP\n",
    "            ),\n",
    "            EventVariables(\n",
    "                key='1Bs',\n",
    "                probability=likelihoods['1B'],\n",
    "                children=[\n",
    "                    EventVariables(\n",
    "                        key='Long 1B',\n",
    "                        probability=.3,\n",
    "                        eventCode=EventCodes.LongSingle\n",
    "                    ),\n",
    "                    EventVariables(\n",
    "                        key='Medium 1B',\n",
    "                        probability=.5,\n",
    "                        eventCode=EventCodes.MediumSingle\n",
    "                    ),\n",
    "                    EventVariables(\n",
    "                        key='Short 1B',\n",
    "                        probability=.2,\n",
    "                        eventCode=EventCodes.ShortSingle\n",
    "                    )\n",
    "                ]\n",
    "            ),\n",
    "            EventVariables(\n",
    "                key='2B',\n",
    "                probability=likelihoods['2B'],\n",
    "                children=[\n",
    "                    EventVariables(\n",
    "                        key='Short 2B',\n",
    "                        probability=.8,\n",
    "                        eventCode=EventCodes.ShortDouble\n",
    "                    ),\n",
    "                    EventVariables(\n",
    "                        key='Long 2B',\n",
    "                        probability=.2,\n",
    "                        eventCode=EventCodes.LongDouble\n",
    "                    ),\n",
    "                ]\n",
    "            ),\n",
    "            EventVariables(\n",
    "                key='3B',\n",
    "                probability=likelihoods['3B'],\n",
    "                eventCode=EventCodes.Triple\n",
    "            ),\n",
    "            EventVariables(\n",
    "                key='HR',\n",
    "                probability=likelihoods['HR'],\n",
    "                eventCode=EventCodes.HR\n",
    "            ),\n",
    "        ]\n",
    "\n",
    "event_variables = EventVariableFactory().create(player_stats.likelihoods())"
   ]
  },
  {
   "cell_type": "code",
   "execution_count": 8,
   "metadata": {},
   "outputs": [],
   "source": [
    "def get_prob_ranges(event_variables):\n",
    "    i = 0\n",
    "\n",
    "    ranges = []\n",
    "    for ev in event_variables:\n",
    "        ranges.append(\n",
    "          ev.probability + i\n",
    "        )\n",
    "\n",
    "        i += ev.probability\n",
    "\n",
    "    ranges[-1] = 1\n",
    "\n",
    "    baseball_events = list(zip(ranges, event_variables))\n",
    "    baseball_events\n",
    "\n",
    "    return baseball_events"
   ]
  },
  {
   "cell_type": "code",
   "execution_count": 9,
   "metadata": {},
   "outputs": [
    {
     "data": {
      "text/plain": [
       "[(0.01706036745406824, <EventVariables Error 0.01706036745406824>),\n",
       " (0.5039370078740157, <EventVariables Outs 0.4868766404199475>),\n",
       " (0.5866141732283464, <EventVariables K 0.08267716535433071>),\n",
       " (0.6509186351706037, <EventVariables BB 0.06430446194225722>),\n",
       " (0.6561679790026247, <EventVariables HBP 0.005249343832020997>),\n",
       " (0.9514435695538057, <EventVariables 1Bs 0.2952755905511811>),\n",
       " (0.9829396325459316, <EventVariables 2B 0.031496062992125984>),\n",
       " (0.9895013123359578, <EventVariables 3B 0.006561679790026247>),\n",
       " (1, <EventVariables HR 0.010498687664041995>)]"
      ]
     },
     "execution_count": 9,
     "metadata": {},
     "output_type": "execute_result"
    }
   ],
   "source": [
    "get_prob_ranges(event_variables)"
   ]
  },
  {
   "cell_type": "code",
   "execution_count": 10,
   "metadata": {},
   "outputs": [
    {
     "data": {
      "text/plain": [
       "[(0.01735, <EventVariables Error 0.01706036745406824>),\n",
       " (0.48593, <EventVariables Outs 0.4868766404199475>),\n",
       " (0.08385, <EventVariables K 0.08267716535433071>),\n",
       " (0.06354, <EventVariables BB 0.06430446194225722>),\n",
       " (0.00547, <EventVariables HBP 0.005249343832020997>),\n",
       " (0.29467, <EventVariables 1Bs 0.2952755905511811>),\n",
       " (0.032, <EventVariables 2B 0.031496062992125984>),\n",
       " (0.00643, <EventVariables 3B 0.006561679790026247>),\n",
       " (0.01076, <EventVariables HR 0.010498687664041995>)]"
      ]
     },
     "execution_count": 10,
     "metadata": {},
     "output_type": "execute_result"
    }
   ],
   "source": [
    "globs = [0 for _ in list(enumerate(event_variables))]\n",
    "probs = get_prob_ranges(event_variables)\n",
    "iterations = 100000\n",
    "\n",
    "for _ in range(iterations):\n",
    "    rv = random.random()\n",
    "    for i, tup in enumerate(probs):\n",
    "        p = tup[0]\n",
    "        if rv <= p:\n",
    "            globs[i] += 1\n",
    "            break\n",
    "\n",
    "\n",
    "list(zip([ x / iterations for x in globs ], event_variables))"
   ]
  },
  {
   "cell_type": "code",
   "execution_count": 11,
   "metadata": {},
   "outputs": [
    {
     "data": {
      "text/plain": [
       "{'E': 0.01706036745406824,\n",
       " 'Outs': 0.4868766404199475,\n",
       " 'K': 0.08267716535433071,\n",
       " 'BB': 0.06430446194225722,\n",
       " 'HBP': 0.005249343832020997,\n",
       " '1B': 0.2952755905511811,\n",
       " '2B': 0.031496062992125984,\n",
       " '3B': 0.006561679790026247,\n",
       " 'HR': 0.010498687664041995}"
      ]
     },
     "execution_count": 11,
     "metadata": {},
     "output_type": "execute_result"
    }
   ],
   "source": [
    "player_stats.likelihoods()"
   ]
  },
  {
   "cell_type": "code",
   "execution_count": 12,
   "metadata": {},
   "outputs": [
    {
     "data": {
      "text/plain": [
       "<EventCodes.Walk: 2>"
      ]
     },
     "execution_count": 12,
     "metadata": {},
     "output_type": "execute_result"
    }
   ],
   "source": [
    "def generate_event(event_variables):\n",
    "    rv = random.random()\n",
    "    probs = get_prob_ranges(event_variables)\n",
    "\n",
    "    for p, ev in probs:\n",
    "        if rv <= p:\n",
    "            if ev.eventCode is None:\n",
    "                return generate_event(ev.children)\n",
    "\n",
    "            return ev.eventCode\n",
    "\n",
    "\n",
    "    raise ValueError('Issues')\n",
    "\n",
    "gen = generate_event(event_variables)\n",
    "gen"
   ]
  },
  {
   "cell_type": "code",
   "execution_count": 13,
   "metadata": {},
   "outputs": [
    {
     "data": {
      "text/plain": [
       "[{'bases': [0, 0, 0],\n",
       "  'runs': 0,\n",
       "  'outs': 1,\n",
       "  'event': <EventCodes.Strikeout: 1>,\n",
       "  'desc': 'Strikeout'},\n",
       " {'bases': [0, 0, 0],\n",
       "  'runs': 0,\n",
       "  'outs': 2,\n",
       "  'event': <EventCodes.LineDriveInfieldFly: 14>,\n",
       "  'desc': 'LineDriveInfieldFly'},\n",
       " {'bases': [0, 0, 0],\n",
       "  'runs': 0,\n",
       "  'outs': 3,\n",
       "  'event': <EventCodes.NormalGroundBall: 13>,\n",
       "  'desc': 'NormalGroundBall'}]"
      ]
     },
     "execution_count": 13,
     "metadata": {},
     "output_type": "execute_result"
    }
   ],
   "source": [
    "def play_half_inning(event_variables):\n",
    "    current_state = {\n",
    "        'bases': [0, 0, 0],\n",
    "        'runs': 0,\n",
    "        'outs': 0,\n",
    "    }\n",
    "\n",
    "    player = {}\n",
    "\n",
    "    history = []\n",
    "    while current_state['outs'] < 3:\n",
    "\n",
    "        event = generate_event(event_variables)\n",
    "        event = validate_event_against_state(current_state, event)\n",
    "        current_state = execute_event_on_state(current_state, event)\n",
    "\n",
    "        history.append(\n",
    "            create_historical_record(current_state, event)\n",
    "        )\n",
    "\n",
    "    return history\n",
    "\n",
    "play_half_inning(event_variables)"
   ]
  },
  {
   "cell_type": "code",
   "execution_count": 14,
   "metadata": {},
   "outputs": [
    {
     "data": {
      "text/plain": [
       "7.609677866666667"
      ]
     },
     "execution_count": 14,
     "metadata": {},
     "output_type": "execute_result"
    }
   ],
   "source": [
    "runs = 0\n",
    "\n",
    "innings = 9\n",
    "iterations = 50000\n",
    "\n",
    "for _ in range(iterations):\n",
    "    half_inning = play_half_inning(event_variables)\n",
    "    runs += half_inning[-1]['runs']\n",
    "\n",
    "runs_per_inning = runs / iterations\n",
    "avg_number_of_innings = 26.72 / 3\n",
    "runs_per_inning * avg_number_of_innings"
   ]
  },
  {
   "cell_type": "code",
   "execution_count": null,
   "metadata": {},
   "outputs": [],
   "source": []
  }
 ],
 "metadata": {
  "kernelspec": {
   "display_name": "Python 3",
   "language": "python",
   "name": "python3"
  },
  "language_info": {
   "codemirror_mode": {
    "name": "ipython",
    "version": 3
   },
   "file_extension": ".py",
   "mimetype": "text/x-python",
   "name": "python",
   "nbconvert_exporter": "python",
   "pygments_lexer": "ipython3",
   "version": "3.9.13"
  },
  "orig_nbformat": 4,
  "vscode": {
   "interpreter": {
    "hash": "aee8b7b246df8f9039afb4144a1f6fd8d2ca17a180786b69acc140d282b71a49"
   }
  }
 },
 "nbformat": 4,
 "nbformat_minor": 2
}
