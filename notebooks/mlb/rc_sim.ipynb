{
 "cells": [
  {
   "cell_type": "code",
   "execution_count": 1,
   "metadata": {},
   "outputs": [],
   "source": [
    "from enum import Enum\n",
    "import random"
   ]
  },
  {
   "cell_type": "code",
   "execution_count": null,
   "metadata": {},
   "outputs": [],
   "source": []
  },
  {
   "attachments": {},
   "cell_type": "markdown",
   "metadata": {},
   "source": [
    "## Simple Example\n",
    "> player has a 50% chance of hitting a HR or getting an OUT."
   ]
  },
  {
   "cell_type": "code",
   "execution_count": 2,
   "metadata": {},
   "outputs": [
    {
     "data": {
      "text/plain": [
       "2.956"
      ]
     },
     "execution_count": 2,
     "metadata": {},
     "output_type": "execute_result"
    }
   ],
   "source": [
    "def play_inning():\n",
    "    hrs = 0\n",
    "    number_of_outs = 0\n",
    "\n",
    "    while number_of_outs < 3:\n",
    "        if random.randint(0, 1) == 1:\n",
    "            hrs += 1\n",
    "        else:\n",
    "            number_of_outs += 1\n",
    "\n",
    "    return hrs\n",
    "\n",
    "outcomes = 0\n",
    "iterations = 1000\n",
    "for _ in range(1000):\n",
    "    outcomes += play_inning()\n",
    "\n",
    "outcomes / iterations ## expected === 3.0"
   ]
  },
  {
   "cell_type": "code",
   "execution_count": null,
   "metadata": {},
   "outputs": [],
   "source": []
  },
  {
   "attachments": {},
   "cell_type": "markdown",
   "metadata": {},
   "source": [
    "## Runs Created Example"
   ]
  },
  {
   "cell_type": "code",
   "execution_count": 43,
   "metadata": {},
   "outputs": [
    {
     "data": {
      "text/plain": [
       "{'bases': [0, 0, 0], 'runs': 0, 'outs': 1}"
      ]
     },
     "execution_count": 43,
     "metadata": {},
     "output_type": "execute_result"
    }
   ],
   "source": [
    "class EventCodes(Enum):\n",
    "    Strikeout = 1\n",
    "    Walk = 2\n",
    "    HBP = 3\n",
    "    Error = 4\n",
    "    LongSingle = 5\n",
    "    MediumSingle = 6\n",
    "    ShortSingle = 7\n",
    "    ShortDouble = 8\n",
    "    LongDouble = 9\n",
    "    Triple = 10\n",
    "    HR = 11\n",
    "    GIDP = 12\n",
    "    NormalGroundBall = 13\n",
    "    LineDriveInfieldFly = 14\n",
    "    LongFly = 15\n",
    "    MediumFly = 16\n",
    "    ShortFly = 17\n",
    "\n",
    "Single = [EventCodes.Walk, EventCodes.HBP, EventCodes.LongSingle, EventCodes.MediumSingle, EventCodes.ShortSingle]\n",
    "Double = [EventCodes.ShortDouble, EventCodes.LongDouble]\n",
    "OnBase = Single + [EventCodes.Error]\n",
    "SingleOut = [\n",
    "    EventCodes.Strikeout,\n",
    "    EventCodes.ShortFly,\n",
    "    EventCodes.MediumFly,\n",
    "    EventCodes.LongFly,\n",
    "    EventCodes.LineDriveInfieldFly,\n",
    "    EventCodes.NormalGroundBall,\n",
    "    EventCodes.GIDP\n",
    "]\n",
    "\n",
    "def validate_event_against_state(state: dict, event: EventCodes) -> EventCodes:\n",
    "    if event == event.GIDP:\n",
    "        is_double_play = state['bases'] == [1, 0, 0] or state['bases'] == [1, 1, 0] or state['bases'] == [1, 0, 1] or state['bases'] == [1, 1, 1]\n",
    "\n",
    "        if not is_double_play:\n",
    "            return EventCodes.NormalGroundBall\n",
    "        \n",
    "    return event\n",
    "\n",
    "\n",
    "def execute_event_on_state(state: dict, event: EventCodes) -> dict:\n",
    "    if event == event.GIDP:\n",
    "        if state['bases'] == [1, 0, 0] or state['bases'] == [1, 1, 0] or state['bases'] == [1, 0, 1] or state['bases'] == [1, 1, 1]:\n",
    "            state['outs'] += 1\n",
    "        else:\n",
    "            ## not a double play scenario ...\n",
    "            event = EventCodes.NormalGroundBall\n",
    "\n",
    "    if event in SingleOut:\n",
    "        state['outs'] += 1\n",
    "\n",
    "    if state['outs'] == 3:\n",
    "        return state\n",
    "\n",
    "    if event == EventCodes.Error:\n",
    "        state['bases'] = [1] + state['bases']\n",
    "\n",
    "    elif event == EventCodes.NormalGroundBall:\n",
    "        if state['bases'] == [0,0,1]:\n",
    "            state['bases'] = [0] + state['bases']\n",
    "\n",
    "        if state['bases'] == [0,1,0]:\n",
    "            state['bases'] = [0] + state['bases']\n",
    "\n",
    "    elif event == EventCodes.GIDP:\n",
    "        if state['bases'] == [1, 0, 0]:\n",
    "            state['bases'] = [0, 0, 0]\n",
    "\n",
    "        elif state['bases'] == [1, 1, 0]:\n",
    "            state['bases'] = [1, 0, 0]\n",
    "\n",
    "        elif state['bases'] == [1, 0, 1]:\n",
    "            state['bases'] = [0, 0] + state['bases'][1:]\n",
    "\n",
    "        elif state['bases'] == [1, 1, 1]:\n",
    "            state['bases'] = [0, 1, 1]\n",
    "\n",
    "    elif event in Single:\n",
    "        if event == EventCodes.LongSingle:\n",
    "            state['bases'] = [0] + state['bases']\n",
    "\n",
    "        if event == EventCodes.MediumSingle:\n",
    "            state['bases'] = state['bases'][:1] + [0, 0] + state['bases'][1:]\n",
    "    \n",
    "        state['bases'] = [1] + state['bases']\n",
    "\n",
    "    elif event == EventCodes.LongFly:\n",
    "        if state['bases'][2] == 1:\n",
    "            ## third advances\n",
    "            state['bases'] = state['bases'][:2] + [0] + state['bases'][2:]\n",
    "\n",
    "        elif state['bases'][1] == 1:\n",
    "            ## second advances\n",
    "            state['bases'] = state['bases'][:1] + [0] + state['bases'][1:]\n",
    "\n",
    "    elif event == EventCodes.MediumFly:\n",
    "        state['bases'] = state['bases'][:2] + [0] + state['bases'][2:]\n",
    "\n",
    "    elif event in Double:\n",
    "        if event == EventCodes.LongDouble:\n",
    "            state['bases'] = [0] + state['bases']\n",
    "\n",
    "        state['bases'] = [0, 1] + state['bases']\n",
    "\n",
    "    elif event == EventCodes.Triple:\n",
    "        state['bases'] = [0, 0, 1] + state['bases']\n",
    "\n",
    "    elif event == EventCodes.HR:\n",
    "        state['bases'] = [0, 0, 0, 1] + state['bases']\n",
    "\n",
    "    state['runs'] += sum(state['bases'][3:])\n",
    "    state['bases'] = state['bases'][:3]\n",
    "\n",
    "    return state\n",
    "\n",
    "event = EventCodes.GIDP\n",
    "state = { 'bases': [0,0,0], 'runs': 0, 'outs': 0}\n",
    "event = validate_event_against_state(state, event)\n",
    "execute_event_on_state(state, event)"
   ]
  },
  {
   "cell_type": "code",
   "execution_count": 4,
   "metadata": {},
   "outputs": [],
   "source": [
    "def create_historical_record(current_state, event):\n",
    "    outcome = current_state.copy()\n",
    "\n",
    "    outcome['event'] = event\n",
    "    outcome['desc'] = f'{event.name}'\n",
    "\n",
    "    return outcome"
   ]
  },
  {
   "cell_type": "code",
   "execution_count": 56,
   "metadata": {},
   "outputs": [
    {
     "data": {
      "text/plain": [
       "{'E': 0.01706036745406824,\n",
       " 'Outs': 0.4868766404199475,\n",
       " 'K': 0.08267716535433071,\n",
       " 'BB': 0.06430446194225722,\n",
       " 'HBP': 0.005249343832020997,\n",
       " '1B': 0.2952755905511811,\n",
       " '2B': 0.031496062992125984,\n",
       " '3B': 0.006561679790026247,\n",
       " 'HR': 0.010498687664041995}"
      ]
     },
     "execution_count": 56,
     "metadata": {},
     "output_type": "execute_result"
    }
   ],
   "source": [
    "import math\n",
    "\n",
    "data = {\n",
    "    'AB': 704, ## Appearance\n",
    "    'SB': 2, ## Sac Bunts\n",
    "    'SF': 3, ## Sac Flys\n",
    "    'K': 63,\n",
    "    'BB': 49,\n",
    "    'HBP': 4,\n",
    "    '1B': 225,\n",
    "    '2B': 24,\n",
    "    '3B': 5,\n",
    "    'HR': 8\n",
    "}\n",
    "\n",
    "class PlayerStats():\n",
    "    def __init__(self, data):\n",
    "        self.data = data\n",
    "\n",
    "        self.data['HITS'] = sum([ self.data[key] for key in ['1B', '2B', '3B', 'HR']])\n",
    "        self.data['PA'] = sum([ self.data[key] for key in ['BB', 'HBP', 'AB', 'SB', 'SF']])\n",
    "        self.data['E'] = math.floor(.018 * self.data['PA'])\n",
    "        self.data['AtBats'] = sum([ self.data[key] for key in ['AB', 'SF', 'SB']])\n",
    "        self.data['Outs'] = self.data['AtBats'] - sum([ self.data[key] for key in ['HITS', 'E', 'K']])\n",
    "\n",
    "    def likelihoods(self):\n",
    "        keys = [\n",
    "            'E',\n",
    "            'Outs',\n",
    "            'K',\n",
    "            'BB',\n",
    "            'HBP',\n",
    "            '1B',\n",
    "            '2B',\n",
    "            '3B',\n",
    "            'HR'\n",
    "        ]\n",
    "\n",
    "        lh = {}\n",
    "        for key in keys:\n",
    "            lh[key] = self.data[key] / self.data['PA']\n",
    "        \n",
    "        return lh\n",
    "\n",
    "\n",
    "player_stats = PlayerStats(data)\n",
    "player_stats.likelihoods()"
   ]
  },
  {
   "cell_type": "code",
   "execution_count": 40,
   "metadata": {},
   "outputs": [
    {
     "data": {
      "text/plain": [
       "0.2221422312108261"
      ]
     },
     "execution_count": 40,
     "metadata": {},
     "output_type": "execute_result"
    }
   ],
   "source": [
    "random.random()"
   ]
  },
  {
   "cell_type": "code",
   "execution_count": 156,
   "metadata": {},
   "outputs": [],
   "source": [
    "class EventVariables():\n",
    "    def __init__(self, key, probability, eventCode=None, children = []):\n",
    "        self.key = key\n",
    "        self.probability = probability\n",
    "        self.children = children\n",
    "        self.eventCode = eventCode\n",
    "\n",
    "    def __repr__(self):\n",
    "        return f'<EventVariables {self.key} {self.probability}>'\n",
    "\n",
    "class EventVariableFactory():\n",
    "    def create(self, likelihoods):\n",
    "        return [\n",
    "            EventVariables(\n",
    "                key='Error',\n",
    "                probability=likelihoods['E'],\n",
    "                eventCode=EventCodes.Error\n",
    "            ),\n",
    "            EventVariables(\n",
    "                key='Outs',\n",
    "                probability=likelihoods['Outs'],\n",
    "                children=[\n",
    "                    ## Grounders\n",
    "                    EventVariables(\n",
    "                        key='Ground Out',\n",
    "                        probability=.538,\n",
    "                        children=[\n",
    "                            EventVariables(\n",
    "                                key='Double Play',\n",
    "                                probability=.5,\n",
    "                                eventCode=EventCodes.GIDP\n",
    "                            ),\n",
    "                            EventVariables(\n",
    "                                key='Normal Ground Out',\n",
    "                                probability=.5,\n",
    "                                eventCode=EventCodes.NormalGroundBall\n",
    "                            )\n",
    "                        ]\n",
    "                    ),\n",
    "                    ## Infield\n",
    "                    EventVariables(\n",
    "                        key='Infield Fly / Line Drive',\n",
    "                        probability=.153,\n",
    "                        eventCode=EventCodes.LineDriveInfieldFly\n",
    "                    ),\n",
    "                    ## Fly\n",
    "                    EventVariables(\n",
    "                        key='Fly Out',\n",
    "                        probability=.309,\n",
    "                        children=[\n",
    "                            EventVariables(\n",
    "                                key='Long Fly Out',\n",
    "                                probability=.2,\n",
    "                                eventCode=EventCodes.LongFly\n",
    "                            ),\n",
    "                            EventVariables(\n",
    "                                key='Medium Fly Out',\n",
    "                                probability=.5,\n",
    "                                eventCode=EventCodes.MediumFly\n",
    "                            ),\n",
    "                            EventVariables(\n",
    "                                key='Short Fly Out',\n",
    "                                probability=.3,\n",
    "                                eventCode=EventCodes.ShortFly\n",
    "                            )\n",
    "                        ]\n",
    "                    )\n",
    "                ]\n",
    "            ),\n",
    "            EventVariables(\n",
    "                key='K',\n",
    "                probability=likelihoods['K'],\n",
    "                eventCode=EventCodes.Strikeout\n",
    "            ),\n",
    "            EventVariables(\n",
    "                key='BB',\n",
    "                probability=likelihoods['BB'],\n",
    "                eventCode=EventCodes.Walk\n",
    "            ),\n",
    "            EventVariables(\n",
    "                key='HBP',\n",
    "                probability=likelihoods['HBP'],\n",
    "                eventCode=EventCodes.HBP\n",
    "            ),\n",
    "            EventVariables(\n",
    "                key='1Bs',\n",
    "                probability=likelihoods['1B'],\n",
    "                children=[\n",
    "                    EventVariables(\n",
    "                        key='Long 1B',\n",
    "                        probability=.3,\n",
    "                        eventCode=EventCodes.LongSingle\n",
    "                    ),\n",
    "                    EventVariables(\n",
    "                        key='Medium 1B',\n",
    "                        probability=.5,\n",
    "                        eventCode=EventCodes.MediumSingle\n",
    "                    ),\n",
    "                    EventVariables(\n",
    "                        key='Short 1B',\n",
    "                        probability=.2,\n",
    "                        eventCode=EventCodes.ShortSingle\n",
    "                    )\n",
    "                ]\n",
    "            ),\n",
    "            EventVariables(\n",
    "                key='2B',\n",
    "                probability=likelihoods['2B'],\n",
    "                children=[\n",
    "                    EventVariables(\n",
    "                        key='Short 2B',\n",
    "                        probability=.8,\n",
    "                        eventCode=EventCodes.ShortDouble\n",
    "                    ),\n",
    "                    EventVariables(\n",
    "                        key='Long 2B',\n",
    "                        probability=.2,\n",
    "                        eventCode=EventCodes.LongDouble\n",
    "                    ),\n",
    "                ]\n",
    "            ),\n",
    "            EventVariables(\n",
    "                key='3B',\n",
    "                probability=likelihoods['3B'],\n",
    "                eventCode=EventCodes.Triple\n",
    "            ),\n",
    "            EventVariables(\n",
    "                key='HR',\n",
    "                probability=likelihoods['HR'],\n",
    "                eventCode=EventCodes.HR\n",
    "            ),\n",
    "        ]\n",
    "\n",
    "event_variables = EventVariableFactory().create(player_stats.likelihoods())"
   ]
  },
  {
   "cell_type": "code",
   "execution_count": 202,
   "metadata": {},
   "outputs": [],
   "source": [
    "def get_prob_ranges(event_variables):\n",
    "    i = 0\n",
    "\n",
    "    ranges = []\n",
    "    for ev in event_variables:\n",
    "        ranges.append(\n",
    "          ev.probability + i\n",
    "        )\n",
    "\n",
    "        i += ev.probability\n",
    "\n",
    "    ranges[-1] = 1\n",
    "\n",
    "    baseball_events = list(zip(ranges, event_variables))\n",
    "    baseball_events\n",
    "\n",
    "    return baseball_events"
   ]
  },
  {
   "cell_type": "code",
   "execution_count": 207,
   "metadata": {},
   "outputs": [
    {
     "data": {
      "text/plain": [
       "0.6539233590320754"
      ]
     },
     "execution_count": 207,
     "metadata": {},
     "output_type": "execute_result"
    }
   ],
   "source": [
    "random.random()"
   ]
  },
  {
   "cell_type": "code",
   "execution_count": 206,
   "metadata": {},
   "outputs": [
    {
     "data": {
      "text/plain": [
       "[(0.01706036745406824, <EventVariables Error 0.01706036745406824>),\n",
       " (0.5039370078740157, <EventVariables Outs 0.4868766404199475>),\n",
       " (0.5866141732283464, <EventVariables K 0.08267716535433071>),\n",
       " (0.6509186351706037, <EventVariables BB 0.06430446194225722>),\n",
       " (0.6561679790026247, <EventVariables HBP 0.005249343832020997>),\n",
       " (0.9514435695538057, <EventVariables 1Bs 0.2952755905511811>),\n",
       " (0.9829396325459316, <EventVariables 2B 0.031496062992125984>),\n",
       " (0.9895013123359578, <EventVariables 3B 0.006561679790026247>),\n",
       " (1, <EventVariables HR 0.010498687664041995>)]"
      ]
     },
     "execution_count": 206,
     "metadata": {},
     "output_type": "execute_result"
    }
   ],
   "source": [
    "get_prob_ranges(event_variables)"
   ]
  },
  {
   "cell_type": "code",
   "execution_count": 220,
   "metadata": {},
   "outputs": [
    {
     "ename": "AttributeError",
     "evalue": "'EventVariables' object has no attribute 'event'",
     "output_type": "error",
     "traceback": [
      "\u001b[0;31m---------------------------------------------------------------------------\u001b[0m",
      "\u001b[0;31mAttributeError\u001b[0m                            Traceback (most recent call last)",
      "\u001b[0;32m<ipython-input-220-17db0bfdaf68>\u001b[0m in \u001b[0;36m<module>\u001b[0;34m\u001b[0m\n\u001b[1;32m     13\u001b[0m     \u001b[0;32mraise\u001b[0m \u001b[0mValueError\u001b[0m\u001b[0;34m(\u001b[0m\u001b[0;34m'Issues'\u001b[0m\u001b[0;34m)\u001b[0m\u001b[0;34m\u001b[0m\u001b[0;34m\u001b[0m\u001b[0m\n\u001b[1;32m     14\u001b[0m \u001b[0;34m\u001b[0m\u001b[0m\n\u001b[0;32m---> 15\u001b[0;31m \u001b[0mgen\u001b[0m \u001b[0;34m=\u001b[0m \u001b[0mgenerate_event\u001b[0m\u001b[0;34m(\u001b[0m\u001b[0mevent_variables\u001b[0m\u001b[0;34m)\u001b[0m\u001b[0;34m\u001b[0m\u001b[0;34m\u001b[0m\u001b[0m\n\u001b[0m\u001b[1;32m     16\u001b[0m \u001b[0mgen\u001b[0m\u001b[0;34m\u001b[0m\u001b[0;34m\u001b[0m\u001b[0m\n",
      "\u001b[0;32m<ipython-input-220-17db0bfdaf68>\u001b[0m in \u001b[0;36mgenerate_event\u001b[0;34m(event_variables)\u001b[0m\n\u001b[1;32m      7\u001b[0m \u001b[0;34m\u001b[0m\u001b[0m\n\u001b[1;32m      8\u001b[0m             \u001b[0;32mif\u001b[0m \u001b[0mev\u001b[0m\u001b[0;34m.\u001b[0m\u001b[0meventCode\u001b[0m \u001b[0;32mis\u001b[0m \u001b[0;32mNone\u001b[0m\u001b[0;34m:\u001b[0m\u001b[0;34m\u001b[0m\u001b[0;34m\u001b[0m\u001b[0m\n\u001b[0;32m----> 9\u001b[0;31m                 \u001b[0;32mreturn\u001b[0m \u001b[0mgenerate_event\u001b[0m\u001b[0;34m(\u001b[0m\u001b[0mev\u001b[0m\u001b[0;34m.\u001b[0m\u001b[0mchildren\u001b[0m\u001b[0;34m)\u001b[0m\u001b[0;34m\u001b[0m\u001b[0;34m\u001b[0m\u001b[0m\n\u001b[0m\u001b[1;32m     10\u001b[0m \u001b[0;34m\u001b[0m\u001b[0m\n\u001b[1;32m     11\u001b[0m             \u001b[0;32mreturn\u001b[0m \u001b[0mev\u001b[0m\u001b[0;34m.\u001b[0m\u001b[0mevent\u001b[0m\u001b[0;34m\u001b[0m\u001b[0;34m\u001b[0m\u001b[0m\n",
      "\u001b[0;32m<ipython-input-220-17db0bfdaf68>\u001b[0m in \u001b[0;36mgenerate_event\u001b[0;34m(event_variables)\u001b[0m\n\u001b[1;32m      7\u001b[0m \u001b[0;34m\u001b[0m\u001b[0m\n\u001b[1;32m      8\u001b[0m             \u001b[0;32mif\u001b[0m \u001b[0mev\u001b[0m\u001b[0;34m.\u001b[0m\u001b[0meventCode\u001b[0m \u001b[0;32mis\u001b[0m \u001b[0;32mNone\u001b[0m\u001b[0;34m:\u001b[0m\u001b[0;34m\u001b[0m\u001b[0;34m\u001b[0m\u001b[0m\n\u001b[0;32m----> 9\u001b[0;31m                 \u001b[0;32mreturn\u001b[0m \u001b[0mgenerate_event\u001b[0m\u001b[0;34m(\u001b[0m\u001b[0mev\u001b[0m\u001b[0;34m.\u001b[0m\u001b[0mchildren\u001b[0m\u001b[0;34m)\u001b[0m\u001b[0;34m\u001b[0m\u001b[0;34m\u001b[0m\u001b[0m\n\u001b[0m\u001b[1;32m     10\u001b[0m \u001b[0;34m\u001b[0m\u001b[0m\n\u001b[1;32m     11\u001b[0m             \u001b[0;32mreturn\u001b[0m \u001b[0mev\u001b[0m\u001b[0;34m.\u001b[0m\u001b[0mevent\u001b[0m\u001b[0;34m\u001b[0m\u001b[0;34m\u001b[0m\u001b[0m\n",
      "\u001b[0;32m<ipython-input-220-17db0bfdaf68>\u001b[0m in \u001b[0;36mgenerate_event\u001b[0;34m(event_variables)\u001b[0m\n\u001b[1;32m      9\u001b[0m                 \u001b[0;32mreturn\u001b[0m \u001b[0mgenerate_event\u001b[0m\u001b[0;34m(\u001b[0m\u001b[0mev\u001b[0m\u001b[0;34m.\u001b[0m\u001b[0mchildren\u001b[0m\u001b[0;34m)\u001b[0m\u001b[0;34m\u001b[0m\u001b[0;34m\u001b[0m\u001b[0m\n\u001b[1;32m     10\u001b[0m \u001b[0;34m\u001b[0m\u001b[0m\n\u001b[0;32m---> 11\u001b[0;31m             \u001b[0;32mreturn\u001b[0m \u001b[0mev\u001b[0m\u001b[0;34m.\u001b[0m\u001b[0mevent\u001b[0m\u001b[0;34m\u001b[0m\u001b[0;34m\u001b[0m\u001b[0m\n\u001b[0m\u001b[1;32m     12\u001b[0m \u001b[0;34m\u001b[0m\u001b[0m\n\u001b[1;32m     13\u001b[0m     \u001b[0;32mraise\u001b[0m \u001b[0mValueError\u001b[0m\u001b[0;34m(\u001b[0m\u001b[0;34m'Issues'\u001b[0m\u001b[0;34m)\u001b[0m\u001b[0;34m\u001b[0m\u001b[0;34m\u001b[0m\u001b[0m\n",
      "\u001b[0;31mAttributeError\u001b[0m: 'EventVariables' object has no attribute 'event'"
     ]
    }
   ],
   "source": [
    "def generate_event(event_variables):\n",
    "    rv = random.random()\n",
    "\n",
    "    probs = get_prob_ranges(event_variables)\n",
    "    for p, ev in probs:\n",
    "        if p >= rv:\n",
    "\n",
    "            if ev.eventCode is None:\n",
    "                return generate_event(ev.children)\n",
    "\n",
    "            return ev.eventCode\n",
    "\n",
    "    raise ValueError('Issues')\n",
    "\n",
    "gen = generate_event(event_variables)\n",
    "gen"
   ]
  },
  {
   "cell_type": "code",
   "execution_count": 218,
   "metadata": {},
   "outputs": [
    {
     "ename": "AttributeError",
     "evalue": "'EventVariables' object has no attribute 'GIDP'",
     "output_type": "error",
     "traceback": [
      "\u001b[0;31m---------------------------------------------------------------------------\u001b[0m",
      "\u001b[0;31mAttributeError\u001b[0m                            Traceback (most recent call last)",
      "\u001b[0;32m<ipython-input-218-155fff0173df>\u001b[0m in \u001b[0;36m<module>\u001b[0;34m\u001b[0m\n\u001b[1;32m     21\u001b[0m     \u001b[0;32mreturn\u001b[0m \u001b[0mhistory\u001b[0m\u001b[0;34m\u001b[0m\u001b[0;34m\u001b[0m\u001b[0m\n\u001b[1;32m     22\u001b[0m \u001b[0;34m\u001b[0m\u001b[0m\n\u001b[0;32m---> 23\u001b[0;31m \u001b[0mplay_half_inning\u001b[0m\u001b[0;34m(\u001b[0m\u001b[0;34m)\u001b[0m\u001b[0;34m\u001b[0m\u001b[0;34m\u001b[0m\u001b[0m\n\u001b[0m",
      "\u001b[0;32m<ipython-input-218-155fff0173df>\u001b[0m in \u001b[0;36mplay_half_inning\u001b[0;34m()\u001b[0m\n\u001b[1;32m     12\u001b[0m \u001b[0;34m\u001b[0m\u001b[0m\n\u001b[1;32m     13\u001b[0m         \u001b[0mevent\u001b[0m \u001b[0;34m=\u001b[0m \u001b[0mgenerate_event\u001b[0m\u001b[0;34m(\u001b[0m\u001b[0mevent_variables\u001b[0m\u001b[0;34m)\u001b[0m\u001b[0;34m\u001b[0m\u001b[0;34m\u001b[0m\u001b[0m\n\u001b[0;32m---> 14\u001b[0;31m         \u001b[0mevent\u001b[0m \u001b[0;34m=\u001b[0m \u001b[0mvalidate_event_against_state\u001b[0m\u001b[0;34m(\u001b[0m\u001b[0mcurrent_state\u001b[0m\u001b[0;34m,\u001b[0m \u001b[0mevent\u001b[0m\u001b[0;34m)\u001b[0m\u001b[0;34m\u001b[0m\u001b[0;34m\u001b[0m\u001b[0m\n\u001b[0m\u001b[1;32m     15\u001b[0m         \u001b[0mcurrent_state\u001b[0m \u001b[0;34m=\u001b[0m \u001b[0mexecute_event_on_state\u001b[0m\u001b[0;34m(\u001b[0m\u001b[0mcurrent_state\u001b[0m\u001b[0;34m,\u001b[0m \u001b[0mevent\u001b[0m\u001b[0;34m)\u001b[0m\u001b[0;34m\u001b[0m\u001b[0;34m\u001b[0m\u001b[0m\n\u001b[1;32m     16\u001b[0m \u001b[0;34m\u001b[0m\u001b[0m\n",
      "\u001b[0;32m<ipython-input-43-ff8114b21422>\u001b[0m in \u001b[0;36mvalidate_event_against_state\u001b[0;34m(state, event)\u001b[0m\n\u001b[1;32m     32\u001b[0m \u001b[0;34m\u001b[0m\u001b[0m\n\u001b[1;32m     33\u001b[0m \u001b[0;32mdef\u001b[0m \u001b[0mvalidate_event_against_state\u001b[0m\u001b[0;34m(\u001b[0m\u001b[0mstate\u001b[0m\u001b[0;34m:\u001b[0m \u001b[0mdict\u001b[0m\u001b[0;34m,\u001b[0m \u001b[0mevent\u001b[0m\u001b[0;34m:\u001b[0m \u001b[0mEventCodes\u001b[0m\u001b[0;34m)\u001b[0m \u001b[0;34m->\u001b[0m \u001b[0mEventCodes\u001b[0m\u001b[0;34m:\u001b[0m\u001b[0;34m\u001b[0m\u001b[0;34m\u001b[0m\u001b[0m\n\u001b[0;32m---> 34\u001b[0;31m     \u001b[0;32mif\u001b[0m \u001b[0mevent\u001b[0m \u001b[0;34m==\u001b[0m \u001b[0mevent\u001b[0m\u001b[0;34m.\u001b[0m\u001b[0mGIDP\u001b[0m\u001b[0;34m:\u001b[0m\u001b[0;34m\u001b[0m\u001b[0;34m\u001b[0m\u001b[0m\n\u001b[0m\u001b[1;32m     35\u001b[0m         \u001b[0mis_double_play\u001b[0m \u001b[0;34m=\u001b[0m \u001b[0mstate\u001b[0m\u001b[0;34m[\u001b[0m\u001b[0;34m'bases'\u001b[0m\u001b[0;34m]\u001b[0m \u001b[0;34m==\u001b[0m \u001b[0;34m[\u001b[0m\u001b[0;36m1\u001b[0m\u001b[0;34m,\u001b[0m \u001b[0;36m0\u001b[0m\u001b[0;34m,\u001b[0m \u001b[0;36m0\u001b[0m\u001b[0;34m]\u001b[0m \u001b[0;32mor\u001b[0m \u001b[0mstate\u001b[0m\u001b[0;34m[\u001b[0m\u001b[0;34m'bases'\u001b[0m\u001b[0;34m]\u001b[0m \u001b[0;34m==\u001b[0m \u001b[0;34m[\u001b[0m\u001b[0;36m1\u001b[0m\u001b[0;34m,\u001b[0m \u001b[0;36m1\u001b[0m\u001b[0;34m,\u001b[0m \u001b[0;36m0\u001b[0m\u001b[0;34m]\u001b[0m \u001b[0;32mor\u001b[0m \u001b[0mstate\u001b[0m\u001b[0;34m[\u001b[0m\u001b[0;34m'bases'\u001b[0m\u001b[0;34m]\u001b[0m \u001b[0;34m==\u001b[0m \u001b[0;34m[\u001b[0m\u001b[0;36m1\u001b[0m\u001b[0;34m,\u001b[0m \u001b[0;36m0\u001b[0m\u001b[0;34m,\u001b[0m \u001b[0;36m1\u001b[0m\u001b[0;34m]\u001b[0m \u001b[0;32mor\u001b[0m \u001b[0mstate\u001b[0m\u001b[0;34m[\u001b[0m\u001b[0;34m'bases'\u001b[0m\u001b[0;34m]\u001b[0m \u001b[0;34m==\u001b[0m \u001b[0;34m[\u001b[0m\u001b[0;36m1\u001b[0m\u001b[0;34m,\u001b[0m \u001b[0;36m1\u001b[0m\u001b[0;34m,\u001b[0m \u001b[0;36m1\u001b[0m\u001b[0;34m]\u001b[0m\u001b[0;34m\u001b[0m\u001b[0;34m\u001b[0m\u001b[0m\n\u001b[1;32m     36\u001b[0m \u001b[0;34m\u001b[0m\u001b[0m\n",
      "\u001b[0;31mAttributeError\u001b[0m: 'EventVariables' object has no attribute 'GIDP'"
     ]
    }
   ],
   "source": [
    "def play_half_inning():\n",
    "    current_state = {\n",
    "        'bases': [0, 0, 0],\n",
    "        'runs': 0,\n",
    "        'outs': 0,\n",
    "    }\n",
    "\n",
    "    player = {}\n",
    "\n",
    "    history = []\n",
    "    while current_state['outs'] < 3:\n",
    "\n",
    "        event = generate_event(event_variables)\n",
    "        event = validate_event_against_state(current_state, event)\n",
    "        current_state = execute_event_on_state(current_state, event)\n",
    "\n",
    "        history.append(\n",
    "            create_historical_record(current_state, event)\n",
    "        )\n",
    "\n",
    "    return history\n",
    "\n",
    "play_half_inning()"
   ]
  }
 ],
 "metadata": {
  "kernelspec": {
   "display_name": "Python 3",
   "language": "python",
   "name": "python3"
  },
  "language_info": {
   "codemirror_mode": {
    "name": "ipython",
    "version": 3
   },
   "file_extension": ".py",
   "mimetype": "text/x-python",
   "name": "python",
   "nbconvert_exporter": "python",
   "pygments_lexer": "ipython3",
   "version": "3.9.13"
  },
  "orig_nbformat": 4,
  "vscode": {
   "interpreter": {
    "hash": "aee8b7b246df8f9039afb4144a1f6fd8d2ca17a180786b69acc140d282b71a49"
   }
  }
 },
 "nbformat": 4,
 "nbformat_minor": 2
}
