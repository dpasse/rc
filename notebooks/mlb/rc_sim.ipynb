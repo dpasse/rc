{
 "cells": [
  {
   "cell_type": "code",
   "execution_count": 1,
   "metadata": {},
   "outputs": [],
   "source": [
    "import sys\n",
    "import random\n",
    "import numpy as np\n",
    "import pandas as pd\n",
    "\n",
    "sys.path.insert(0, '../../pipelines/tasks/')\n",
    "\n",
    "from mlb.sim.state import Inning\n",
    "from mlb.sim.models import EventVariableFactory, EventCodes, PlayerStats, all_event_codes"
   ]
  },
  {
   "cell_type": "code",
   "execution_count": null,
   "metadata": {},
   "outputs": [],
   "source": []
  },
  {
   "cell_type": "code",
   "execution_count": 2,
   "metadata": {},
   "outputs": [],
   "source": [
    "df_players = pd.read_csv('../../data/mlb/player_stats.csv', index_col=None)\n",
    "df_players.season = df_players.season.astype(str)\n",
    "df_players = df_players[np.logical_and(df_players.player == 'correca01', df_players.season == '2022')]\n",
    "df_players = df_players.rename(columns={\n",
    "    'SO': 'K'\n",
    "})\n",
    "\n",
    "columns = ['PA', 'AB', 'SH', 'SF', 'K', 'BB', 'HBP', '1B', '2B', '3B', 'HR', 'R', 'G']\n",
    "\n",
    "correa = df_players[columns].to_dict('records')[0]\n",
    "\n",
    "ichiro = {\n",
    "    'AB': 704, ## Appearance\n",
    "    'SH': 2, ## Sac Bunts\n",
    "    'SF': 3, ## Sac Flys\n",
    "    'K': 63,\n",
    "    'BB': 49,\n",
    "    'HBP': 4,\n",
    "    '1B': 225,\n",
    "    '2B': 24,\n",
    "    '3B': 5,\n",
    "    'HR': 8\n",
    "}\n",
    "\n",
    "df_teams = pd.read_csv('../../data/mlb/season_stats.csv', index_col=None)\n",
    "df_teams.season = df_teams.season.astype(str)\n",
    "df_teams = df_teams[np.logical_and(df_teams.season == '2022', df_teams.team == 17)]\n",
    "df_teams = df_teams.rename(columns={\n",
    "    'SO': 'K'\n",
    "})\n",
    "\n",
    "team_columns = columns + ['R/G']\n",
    "twins = df_teams[team_columns].to_dict('records')[0]"
   ]
  },
  {
   "cell_type": "code",
   "execution_count": 3,
   "metadata": {},
   "outputs": [
    {
     "data": {
      "text/plain": [
       "{'PA': 6113,\n",
       " 'AB': 5476,\n",
       " 'SH': 10,\n",
       " 'SF': 46,\n",
       " 'K': 1353,\n",
       " 'BB': 518,\n",
       " 'HBP': 62,\n",
       " '1B': 891.0,\n",
       " '2B': 269,\n",
       " '3B': 18,\n",
       " 'HR': 178,\n",
       " 'R': 696,\n",
       " 'G': 162,\n",
       " 'R/G': 4.3}"
      ]
     },
     "execution_count": 3,
     "metadata": {},
     "output_type": "execute_result"
    }
   ],
   "source": [
    "twins"
   ]
  },
  {
   "cell_type": "code",
   "execution_count": null,
   "metadata": {},
   "outputs": [],
   "source": []
  },
  {
   "cell_type": "code",
   "execution_count": 5,
   "metadata": {},
   "outputs": [
    {
     "data": {
      "text/plain": [
       "[{'bases': [0, 0, 0],\n",
       "  'runs': 0,\n",
       "  'outs': 1,\n",
       "  'event': <EventCodes.LineDriveInfieldFly: 15>,\n",
       "  'desc': 'LineDriveInfieldFly'},\n",
       " {'bases': [0, 0, 0],\n",
       "  'runs': 0,\n",
       "  'outs': 2,\n",
       "  'event': <EventCodes.LongFly: 16>,\n",
       "  'desc': 'LongFly'},\n",
       " {'bases': [0, 0, 0],\n",
       "  'runs': 0,\n",
       "  'outs': 3,\n",
       "  'event': <EventCodes.LongFly: 16>,\n",
       "  'desc': 'LongFly'}]"
      ]
     },
     "execution_count": 5,
     "metadata": {},
     "output_type": "execute_result"
    }
   ],
   "source": [
    "def play_inning(event_variables):\n",
    "    def get_prob_ranges(event_variables):\n",
    "        i = 0\n",
    "\n",
    "        ranges = []\n",
    "        for ev in event_variables:\n",
    "            ranges.append(\n",
    "            ev.probability + i\n",
    "            )\n",
    "\n",
    "            i += ev.probability\n",
    "\n",
    "        ranges[-1] = 1\n",
    "\n",
    "        baseball_events = list(zip(ranges, event_variables))\n",
    "        baseball_events\n",
    "\n",
    "        return baseball_events\n",
    "\n",
    "    def generate_event(event_variables):\n",
    "        rv = random.random()\n",
    "        probs = get_prob_ranges(event_variables)\n",
    "\n",
    "        for p, ev in probs:\n",
    "            if rv <= p:\n",
    "                return ev.event_code\n",
    "\n",
    "\n",
    "        raise ValueError('No Event Code was generated!')\n",
    "\n",
    "    inning = Inning()\n",
    "\n",
    "    history = []\n",
    "    while not inning.is_over():\n",
    "        history.append(\n",
    "            inning.execute(\n",
    "                generate_event(event_variables),\n",
    "            )\n",
    "        )\n",
    "\n",
    "    return history\n",
    "\n",
    "event_variables = EventVariableFactory().create(PlayerStats(ichiro).likelihoods())\n",
    "play_inning(event_variables)"
   ]
  },
  {
   "cell_type": "code",
   "execution_count": null,
   "metadata": {},
   "outputs": [],
   "source": []
  },
  {
   "cell_type": "code",
   "execution_count": 6,
   "metadata": {},
   "outputs": [],
   "source": [
    "avg_innings_per_game = (26.72 / 3)\n",
    "\n",
    "def run_simulation(data, iterations=25000):\n",
    "    event_variables = EventVariableFactory().create(\n",
    "        PlayerStats(data).likelihoods()\n",
    "    )\n",
    "\n",
    "    runs = 0\n",
    "    for _ in range(iterations):\n",
    "        half_inning = play_inning(event_variables)\n",
    "        runs += half_inning[-1]['runs']\n",
    "\n",
    "    return runs / iterations"
   ]
  },
  {
   "cell_type": "code",
   "execution_count": null,
   "metadata": {},
   "outputs": [],
   "source": []
  },
  {
   "cell_type": "code",
   "execution_count": 7,
   "metadata": {},
   "outputs": [
    {
     "name": "stdout",
     "output_type": "stream",
     "text": [
      "0.79388\n",
      "7.070824533333333 runs per game\n",
      "1145.4735744 runs per season\n"
     ]
    }
   ],
   "source": [
    "ichiro_runs = run_simulation(ichiro)\n",
    "\n",
    "print(ichiro_runs)\n",
    "print(ichiro_runs * avg_innings_per_game, 'runs per game')\n",
    "print((ichiro_runs * avg_innings_per_game) * 162, 'runs per season')"
   ]
  },
  {
   "cell_type": "code",
   "execution_count": 8,
   "metadata": {},
   "outputs": [
    {
     "name": "stdout",
     "output_type": "stream",
     "text": [
      "0.48164\n",
      "4.289806933333333 runs per game vs 4.3\n",
      "694.9487231999999 runs per season vs 696.6 w/ real 696\n"
     ]
    }
   ],
   "source": [
    "twins_runs = run_simulation(twins)\n",
    "\n",
    "print(twins_runs)\n",
    "print(twins_runs * avg_innings_per_game, 'runs per game', 'vs', twins['R/G'])\n",
    "print((twins_runs * avg_innings_per_game) * 162, 'runs per season', 'vs', twins['R/G'] * 162, 'w/ real', twins['R'])"
   ]
  },
  {
   "cell_type": "code",
   "execution_count": 9,
   "metadata": {},
   "outputs": [
    {
     "name": "stdout",
     "output_type": "stream",
     "text": [
      "0.69804\n",
      "6.2172095999999994 runs per game\n",
      "1007.1879551999999 runs per season\n"
     ]
    }
   ],
   "source": [
    "correa_runs = run_simulation(correa)\n",
    "\n",
    "print(correa_runs)\n",
    "print(correa_runs * avg_innings_per_game, 'runs per game')\n",
    "print((correa_runs * avg_innings_per_game) * 162, 'runs per season')"
   ]
  },
  {
   "cell_type": "code",
   "execution_count": 10,
   "metadata": {},
   "outputs": [],
   "source": [
    "def remove_player_from_team(team, player):\n",
    "    team_minus_player = team.copy()\n",
    "\n",
    "    for key in player.keys():\n",
    "        team_minus_player[key] = team_minus_player[key] - player[key]\n",
    "\n",
    "    return team_minus_player"
   ]
  },
  {
   "cell_type": "code",
   "execution_count": 11,
   "metadata": {},
   "outputs": [
    {
     "name": "stdout",
     "output_type": "stream",
     "text": [
      "0.47328\n",
      "4.2153472 runs per game\n",
      "682.8862464 runs per season\n"
     ]
    }
   ],
   "source": [
    "twins_minus_correa_runs = run_simulation(\n",
    "    remove_player_from_team(twins, correa)\n",
    ")\n",
    "\n",
    "print(twins_minus_correa_runs)\n",
    "print(twins_minus_correa_runs * avg_innings_per_game, 'runs per game')\n",
    "print((twins_minus_correa_runs * avg_innings_per_game) * 162, 'runs per season')"
   ]
  },
  {
   "cell_type": "code",
   "execution_count": null,
   "metadata": {},
   "outputs": [],
   "source": []
  }
 ],
 "metadata": {
  "kernelspec": {
   "display_name": "Python 3",
   "language": "python",
   "name": "python3"
  },
  "language_info": {
   "codemirror_mode": {
    "name": "ipython",
    "version": 3
   },
   "file_extension": ".py",
   "mimetype": "text/x-python",
   "name": "python",
   "nbconvert_exporter": "python",
   "pygments_lexer": "ipython3",
   "version": "3.9.13"
  },
  "orig_nbformat": 4,
  "vscode": {
   "interpreter": {
    "hash": "aee8b7b246df8f9039afb4144a1f6fd8d2ca17a180786b69acc140d282b71a49"
   }
  }
 },
 "nbformat": 4,
 "nbformat_minor": 2
}
