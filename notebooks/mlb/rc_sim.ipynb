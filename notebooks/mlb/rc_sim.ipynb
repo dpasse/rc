{
 "cells": [
  {
   "cell_type": "code",
   "execution_count": 1,
   "metadata": {},
   "outputs": [],
   "source": [
    "import sys\n",
    "import random\n",
    "import numpy as np\n",
    "import pandas as pd\n",
    "import seaborn as sns\n",
    "\n",
    "sys.path.insert(0, '../../pipelines/tasks/')\n",
    "\n",
    "from mlb.sim.state import Inning\n",
    "from mlb.sim.models import EventVariableFactory, EventCodes, PlayerStats, all_event_codes"
   ]
  },
  {
   "cell_type": "code",
   "execution_count": null,
   "metadata": {},
   "outputs": [],
   "source": []
  },
  {
   "cell_type": "code",
   "execution_count": 2,
   "metadata": {},
   "outputs": [],
   "source": [
    "columns = ['PA', 'AB', 'SH', 'SF', 'K', 'BB', 'HBP', '1B', '2B', '3B', 'HR', 'R', 'G']"
   ]
  },
  {
   "cell_type": "code",
   "execution_count": 3,
   "metadata": {},
   "outputs": [],
   "source": [
    "df_players = pd.read_csv('../../data/mlb/player_stats.csv', index_col=None)\n",
    "df_players.season = df_players.season.astype(str)\n",
    "df_players = df_players[np.logical_and(df_players.player == 'correca01', df_players.season == '2022')]\n",
    "df_players = df_players.rename(columns={\n",
    "    'SO': 'K'\n",
    "})\n",
    "\n",
    "correa = df_players[columns].to_dict('records')[0]\n",
    "\n",
    "ichiro = {\n",
    "    'AB': 704, ## Appearance\n",
    "    'SH': 2, ## Sac Bunts\n",
    "    'SF': 3, ## Sac Flys\n",
    "    'K': 63,\n",
    "    'BB': 49,\n",
    "    'HBP': 4,\n",
    "    '1B': 225,\n",
    "    '2B': 24,\n",
    "    '3B': 5,\n",
    "    'HR': 8\n",
    "}\n",
    "\n",
    "df_teams = pd.read_csv('../../data/mlb/season_stats.csv', index_col=None)\n",
    "df_teams.season = df_teams.season.astype(str)\n",
    "df_teams = df_teams[df_teams.season == '2022']\n",
    "df_teams = df_teams.rename(columns={\n",
    "    'SO': 'K'\n",
    "})\n",
    "\n",
    "avg_team = df_teams[columns].mean().to_frame().T.to_dict('records')[0]\n",
    "avg_team['R/G'] = avg_team['R'] / avg_team['G']\n",
    "\n",
    "twins_columns = columns + ['R/G']\n",
    "twins = df_teams.loc[df_teams.team == 17, columns + ['R/G']].to_dict('records')[0]"
   ]
  },
  {
   "cell_type": "code",
   "execution_count": 4,
   "metadata": {},
   "outputs": [],
   "source": [
    "avg_innings_per_game = (26.72 / 3)\n",
    "\n",
    "def generate_event(event_variables_with_ranges):\n",
    "    rv = random.random()\n",
    "    for p, ev in event_variables_with_ranges:\n",
    "        if rv <= p:\n",
    "            return ev.event_code\n",
    "\n",
    "\n",
    "    raise ValueError('No Event Code was generated!')\n",
    "\n",
    "def play_inning(event_variables_with_ranges):\n",
    "    inning = Inning()\n",
    "\n",
    "    history = []\n",
    "    while not inning.is_over():\n",
    "        history.append(\n",
    "            inning.execute(\n",
    "                generate_event(event_variables_with_ranges),\n",
    "            )\n",
    "        )\n",
    "\n",
    "    return history\n",
    "\n",
    "def run_simulation(data, iterations=50000):\n",
    "    event_variables = EventVariableFactory().create_with_ranges(\n",
    "        PlayerStats(data).likelihoods()\n",
    "    )\n",
    "\n",
    "    runs = 0\n",
    "    for _ in range(iterations):\n",
    "        half_inning = play_inning(event_variables)\n",
    "        runs += half_inning[-1]['runs']\n",
    "\n",
    "    return runs / iterations"
   ]
  },
  {
   "cell_type": "code",
   "execution_count": 5,
   "metadata": {},
   "outputs": [
    {
     "name": "stdout",
     "output_type": "stream",
     "text": [
      "0.79828\n",
      "7.110013866666666 runs per game\n",
      "1151.8222463999998 runs per season\n"
     ]
    }
   ],
   "source": [
    "ichiro_runs = run_simulation(ichiro)\n",
    "\n",
    "print(ichiro_runs)\n",
    "print(ichiro_runs * avg_innings_per_game, 'runs per game')\n",
    "\n",
    "runs_per_season = (ichiro_runs * avg_innings_per_game) * 162\n",
    "print(runs_per_season, 'runs per season')"
   ]
  },
  {
   "cell_type": "code",
   "execution_count": 6,
   "metadata": {},
   "outputs": [
    {
     "name": "stdout",
     "output_type": "stream",
     "text": [
      "0.47128\n",
      "4.197533866666666 runs per game vs 4.283333333333333\n",
      "680.0004864 runs per season\n"
     ]
    }
   ],
   "source": [
    "avg_team_runs = run_simulation(avg_team)\n",
    "\n",
    "print(avg_team_runs)\n",
    "print(avg_team_runs * avg_innings_per_game, 'runs per game', 'vs', avg_team['R/G'])\n",
    "print((avg_team_runs * avg_innings_per_game) * 162, 'runs per season')"
   ]
  },
  {
   "cell_type": "code",
   "execution_count": 7,
   "metadata": {},
   "outputs": [
    {
     "name": "stdout",
     "output_type": "stream",
     "text": [
      "0.4843\n",
      "4.313498666666667 runs per game vs 4.3\n",
      "698.786784 runs per season vs 696.6\n"
     ]
    }
   ],
   "source": [
    "twins_runs = run_simulation(twins)\n",
    "\n",
    "print(twins_runs)\n",
    "print(twins_runs * avg_innings_per_game, 'runs per game', 'vs', twins['R/G'])\n",
    "twins_runs_per_season = (twins_runs * avg_innings_per_game) * 162\n",
    "print(twins_runs_per_season, 'runs per season', 'vs', twins['R/G'] * 162)"
   ]
  },
  {
   "cell_type": "code",
   "execution_count": 8,
   "metadata": {},
   "outputs": [
    {
     "name": "stdout",
     "output_type": "stream",
     "text": [
      "0.66902\n",
      "5.958738133333332 runs per game\n",
      "965.3155775999999 runs per season\n"
     ]
    }
   ],
   "source": [
    "correa_runs = run_simulation(correa)\n",
    "\n",
    "print(correa_runs)\n",
    "print(correa_runs * avg_innings_per_game, 'runs per game')\n",
    "print((correa_runs * avg_innings_per_game) * 162, 'runs per season')"
   ]
  },
  {
   "cell_type": "code",
   "execution_count": 9,
   "metadata": {},
   "outputs": [],
   "source": [
    "def remove_player_from_team(team, player):\n",
    "    team_minus_player = team.copy()\n",
    "\n",
    "    for key in player.keys():\n",
    "        team_minus_player[key] = team_minus_player[key] - player[key]\n",
    "\n",
    "    return team_minus_player"
   ]
  },
  {
   "cell_type": "code",
   "execution_count": 10,
   "metadata": {},
   "outputs": [
    {
     "name": "stdout",
     "output_type": "stream",
     "text": [
      "0.4628\n",
      "4.122005333333333 runs per game\n",
      "667.764864 runs per season\n"
     ]
    }
   ],
   "source": [
    "twins_minus_correa_runs = run_simulation(\n",
    "    remove_player_from_team(twins, correa)\n",
    ")\n",
    "\n",
    "print(twins_minus_correa_runs)\n",
    "print(twins_minus_correa_runs * avg_innings_per_game, 'runs per game')\n",
    "\n",
    "twins_minus_correa_runs_per_season = (twins_minus_correa_runs * avg_innings_per_game) * 162\n",
    "print(twins_minus_correa_runs_per_season, 'runs per season')"
   ]
  },
  {
   "cell_type": "code",
   "execution_count": null,
   "metadata": {},
   "outputs": [],
   "source": []
  },
  {
   "attachments": {},
   "cell_type": "markdown",
   "metadata": {},
   "source": [
    "## Wins Created"
   ]
  },
  {
   "cell_type": "code",
   "execution_count": 11,
   "metadata": {},
   "outputs": [
    {
     "name": "stdout",
     "output_type": "stream",
     "text": [
      "wins w/out correa: 79.056\n",
      "wins w correa: 82.782\n",
      "wins created: 3.725999999999999\n"
     ]
    }
   ],
   "source": [
    "## 82-80, 696 Runs, 684 Runs Allowed\n",
    "\n",
    "runs_allowed = 684\n",
    "\n",
    "def pythagorean(runs_scored, runs_allowed, exp = 2):\n",
    "    rate = (runs_scored / runs_allowed) ** exp\n",
    "    return round(rate / (rate + 1), 3)\n",
    "\n",
    "print('wins w/out correa:', pythagorean(twins_minus_correa_runs_per_season, runs_allowed) * 162)\n",
    "print('wins w correa:', pythagorean(twins_runs_per_season, runs_allowed) * 162)\n",
    "\n",
    "print(\n",
    "    'wins created:',\n",
    "    (pythagorean(twins_runs_per_season, runs_allowed) * 162) - (pythagorean(twins_minus_correa_runs_per_season, runs_allowed) * 162)\n",
    ")"
   ]
  }
 ],
 "metadata": {
  "kernelspec": {
   "display_name": "Python 3",
   "language": "python",
   "name": "python3"
  },
  "language_info": {
   "codemirror_mode": {
    "name": "ipython",
    "version": 3
   },
   "file_extension": ".py",
   "mimetype": "text/x-python",
   "name": "python",
   "nbconvert_exporter": "python",
   "pygments_lexer": "ipython3",
   "version": "3.9.13"
  },
  "orig_nbformat": 4,
  "vscode": {
   "interpreter": {
    "hash": "aee8b7b246df8f9039afb4144a1f6fd8d2ca17a180786b69acc140d282b71a49"
   }
  }
 },
 "nbformat": 4,
 "nbformat_minor": 2
}
