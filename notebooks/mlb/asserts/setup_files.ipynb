{
 "cells": [
  {
   "cell_type": "code",
   "execution_count": 7,
   "metadata": {},
   "outputs": [],
   "source": [
    "import pandas as pd"
   ]
  },
  {
   "cell_type": "code",
   "execution_count": null,
   "metadata": {},
   "outputs": [],
   "source": []
  },
  {
   "cell_type": "code",
   "execution_count": 8,
   "metadata": {},
   "outputs": [],
   "source": [
    "requests = [\n",
    "    ('MIN', '2022'),\n",
    "    ('KCR', '2022'),\n",
    "    ('DET', '2022'),\n",
    "    ('CHW', '2022'),\n",
    "    ('CLE', '2022'),\n",
    "]"
   ]
  },
  {
   "cell_type": "code",
   "execution_count": null,
   "metadata": {},
   "outputs": [],
   "source": []
  },
  {
   "cell_type": "code",
   "execution_count": 9,
   "metadata": {},
   "outputs": [
    {
     "name": "stdout",
     "output_type": "stream",
     "text": [
      "#games: 810\n"
     ]
    }
   ],
   "source": [
    "data = []\n",
    "for team, season in requests:\n",
    "    df_schedule = pd.read_csv(f'../../../data/mlb/schedules/{team}_{season}.csv', index_col=None)\n",
    "    for _, row in df_schedule.iterrows():\n",
    "        data.append(\n",
    "            {\n",
    "                'team': row['team'],\n",
    "                'game': row['game']\n",
    "            }\n",
    "        )\n",
    "\n",
    "df_games = pd.DataFrame(data)\n",
    "\n",
    "print('#games:', len(df_games))\n",
    "df_games.to_csv('../../../data/mlb/inputs/games.csv', index=False)"
   ]
  },
  {
   "cell_type": "code",
   "execution_count": null,
   "metadata": {},
   "outputs": [],
   "source": []
  }
 ],
 "metadata": {
  "kernelspec": {
   "display_name": "rc",
   "language": "python",
   "name": "python3"
  },
  "language_info": {
   "codemirror_mode": {
    "name": "ipython",
    "version": 3
   },
   "file_extension": ".py",
   "mimetype": "text/x-python",
   "name": "python",
   "nbconvert_exporter": "python",
   "pygments_lexer": "ipython3",
   "version": "3.9.13"
  },
  "orig_nbformat": 4,
  "vscode": {
   "interpreter": {
    "hash": "95020b902a2df746e83905ddddf9b388e83686c9ac0c7e3287244bbc1a1e2884"
   }
  }
 },
 "nbformat": 4,
 "nbformat_minor": 2
}
