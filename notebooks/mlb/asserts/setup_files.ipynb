{
 "cells": [
  {
   "cell_type": "code",
   "execution_count": 1,
   "metadata": {},
   "outputs": [],
   "source": [
    "import os\n",
    "import pandas as pd"
   ]
  },
  {
   "cell_type": "code",
   "execution_count": null,
   "metadata": {},
   "outputs": [],
   "source": []
  },
  {
   "cell_type": "code",
   "execution_count": 2,
   "metadata": {},
   "outputs": [],
   "source": [
    "requests = os.listdir('../../../data/mlb/schedules/')"
   ]
  },
  {
   "cell_type": "code",
   "execution_count": 3,
   "metadata": {},
   "outputs": [
    {
     "name": "stdout",
     "output_type": "stream",
     "text": [
      "#games: 2430\n"
     ]
    }
   ],
   "source": [
    "data = []\n",
    "keys = set()\n",
    "for file in requests:\n",
    "    df_schedule = pd.read_csv(f'../../../data/mlb/schedules/{file}', index_col=None)\n",
    "    for _, row in df_schedule.iterrows():\n",
    "        team = row['team']\n",
    "        game = row['game']\n",
    "\n",
    "        key = f'{team}_{game}'\n",
    "        if key in keys:\n",
    "            continue\n",
    "\n",
    "        data.append(\n",
    "            {\n",
    "                'team': team,\n",
    "                'game': game\n",
    "            }\n",
    "        )\n",
    "\n",
    "        keys.add(key)\n",
    "\n",
    "df_games = pd.DataFrame(data)\n",
    "\n",
    "print('#games:', len(df_games))\n",
    "df_games.to_csv('../../../data/mlb/inputs/games.csv', index=False)"
   ]
  },
  {
   "cell_type": "code",
   "execution_count": null,
   "metadata": {},
   "outputs": [],
   "source": []
  }
 ],
 "metadata": {
  "kernelspec": {
   "display_name": "Python 3.9.1 ('rc': venv)",
   "language": "python",
   "name": "python3"
  },
  "language_info": {
   "codemirror_mode": {
    "name": "ipython",
    "version": 3
   },
   "file_extension": ".py",
   "mimetype": "text/x-python",
   "name": "python",
   "nbconvert_exporter": "python",
   "pygments_lexer": "ipython3",
   "version": "3.9.1"
  },
  "orig_nbformat": 4,
  "vscode": {
   "interpreter": {
    "hash": "37ccdc49af6bbf3b44a948289a8ffe5009232bb69cecd1ea2152cf52fef62a68"
   }
  }
 },
 "nbformat": 4,
 "nbformat_minor": 2
}
