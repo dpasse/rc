{
 "cells": [
  {
   "cell_type": "code",
   "execution_count": 1,
   "metadata": {},
   "outputs": [],
   "source": [
    "import pandas as pd"
   ]
  },
  {
   "cell_type": "code",
   "execution_count": null,
   "metadata": {},
   "outputs": [],
   "source": []
  },
  {
   "cell_type": "code",
   "execution_count": 2,
   "metadata": {},
   "outputs": [],
   "source": [
    "twins = 17\n",
    "season = '2022'\n",
    "\n",
    "s = 0\n",
    "e = 10"
   ]
  },
  {
   "cell_type": "code",
   "execution_count": null,
   "metadata": {},
   "outputs": [],
   "source": []
  },
  {
   "cell_type": "code",
   "execution_count": 3,
   "metadata": {},
   "outputs": [
    {
     "name": "stdout",
     "output_type": "stream",
     "text": [
      "#games: 10\n"
     ]
    }
   ],
   "source": [
    "df_schedule = pd.read_csv('../../../data/mlb/schedules.csv', index_col=None)\n",
    "df_schedule['SEASON'] = df_schedule['SEASON'].astype(str)\n",
    "df_schedule = df_schedule.loc[df_schedule.TEAM == twins]\n",
    "df_schedule = df_schedule.loc[df_schedule.SEASON == season]\n",
    "\n",
    "df_games = pd.DataFrame({\n",
    "  'id': df_schedule.GAME_ID.dropna().astype(int).astype(str).tolist()[s:e]\n",
    "})\n",
    "\n",
    "print('#games:', len(df_games))\n",
    "df_games.to_csv('../../../data/mlb/inputs/games.csv', index=False)"
   ]
  },
  {
   "cell_type": "code",
   "execution_count": null,
   "metadata": {},
   "outputs": [],
   "source": []
  }
 ],
 "metadata": {
  "kernelspec": {
   "display_name": "rc",
   "language": "python",
   "name": "python3"
  },
  "language_info": {
   "codemirror_mode": {
    "name": "ipython",
    "version": 3
   },
   "file_extension": ".py",
   "mimetype": "text/x-python",
   "name": "python",
   "nbconvert_exporter": "python",
   "pygments_lexer": "ipython3",
   "version": "3.9.13"
  },
  "orig_nbformat": 4,
  "vscode": {
   "interpreter": {
    "hash": "95020b902a2df746e83905ddddf9b388e83686c9ac0c7e3287244bbc1a1e2884"
   }
  }
 },
 "nbformat": 4,
 "nbformat_minor": 2
}
