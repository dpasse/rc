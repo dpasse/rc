{
 "cells": [
  {
   "cell_type": "code",
   "execution_count": 1,
   "metadata": {},
   "outputs": [],
   "source": [
    "import os\n",
    "import sys\n",
    "import json\n",
    "\n",
    "sys.path.insert(0, '../../../pipelines/tasks/mlb/')\n",
    "\n",
    "from common.helpers.parsers import parse_game"
   ]
  },
  {
   "cell_type": "code",
   "execution_count": 2,
   "metadata": {},
   "outputs": [],
   "source": [
    "dump_file = False\n",
    "resave_file = False\n",
    "replay = True"
   ]
  },
  {
   "cell_type": "code",
   "execution_count": 3,
   "metadata": {},
   "outputs": [
    {
     "name": "stdout",
     "output_type": "stream",
     "text": [
      "pbp_401354326.json\n",
      "pbp_401354799.json\n",
      "pbp_401355126.json\n",
      "pbp_401427971.json\n",
      "pbp_401354367.json\n",
      "pbp_401355366.json\n",
      "pbp_401354473.json\n",
      "pbp_401355215.json\n",
      "pbp_401355079.json\n",
      "pbp_401355151.json\n",
      "pbp_401354701.json\n",
      "pbp_401355111.json\n",
      "pbp_401354583.json\n",
      "pbp_401355015.json\n",
      "pbp_401354891.json\n",
      "pbp_401355279.json\n",
      "pbp_401354686.json\n",
      "pbp_401355351.json\n",
      "pbp_401355306.json\n",
      "pbp_401354999.json\n",
      "pbp_401354960.json\n",
      "pbp_401354665.json\n",
      "pbp_401354382.json\n",
      "pbp_401354443.json\n",
      "pbp_401354592.json\n",
      "pbp_401355045.json\n",
      "pbp_401355291.json\n",
      "pbp_401355141.json\n",
      "pbp_401354770.json\n",
      "pbp_401354635.json\n",
      "pbp_401354434.json\n",
      "pbp_401355337.json\n",
      "pbp_401355264.json\n",
      "pbp_401355321.json\n",
      "pbp_401354863.json\n",
      "pbp_401354422.json\n",
      "pbp_401354835.json\n",
      "pbp_401354989.json\n",
      "pbp_401355064.json\n",
      "pbp_401354458.json\n",
      "pbp_401355249.json\n",
      "pbp_401354497.json\n",
      "pbp_401354784.json\n",
      "pbp_401354528.json\n",
      "pbp_401354713.json\n",
      "pbp_401355381.json\n",
      "pbp_401355179.json\n",
      "pbp_401354292.json\n",
      "pbp_401354396.json\n",
      "pbp_401354512.json\n",
      "pbp_401355374.json\n",
      "pbp_401355636.json\n",
      "pbp_401354820.json\n",
      "pbp_401355030.json\n",
      "pbp_401354621.json\n",
      "pbp_401354724.json\n",
      "pbp_401354876.json\n",
      "pbp_401355230.json\n",
      "pbp_401354544.json\n",
      "pbp_401355093.json\n",
      "pbp_401354944.json\n",
      "pbp_401354929.json\n",
      "pbp_401354303.json\n",
      "pbp_401354277.json\n",
      "pbp_401354559.json\n",
      "pbp_401354754.json\n",
      "pbp_401354312.json\n",
      "pbp_401354607.json\n",
      "pbp_401354650.json\n",
      "pbp_401354914.json\n",
      "pbp_401354739.json\n",
      "pbp_401354903.json\n",
      "pbp_401354407.json\n",
      "pbp_401355200.json\n",
      "pbp_401354850.json\n",
      "pbp_401423229.json\n",
      "pbp_401354352.json\n",
      "pbp_401355164.json\n",
      "pbp_401354574.json\n",
      "pbp_401354974.json\n"
     ]
    }
   ],
   "source": [
    "for file in os.listdir('../../../data/mlb/pbp/'):\n",
    "    with open(f'../../../data/mlb/pbp/{file}', 'r', encoding='UTF8') as pbp_input:\n",
    "        game = json.load(pbp_input)\n",
    "\n",
    "    if replay:\n",
    "        game = parse_game(game)\n",
    "\n",
    "    for period in game['periods']:\n",
    "        for event in period['events']:\n",
    "\n",
    "            if not 'entities' in event:\n",
    "                print(file)\n",
    "                print('entities')\n",
    "                print(event)\n",
    "                print()\n",
    "            else:\n",
    "                if 'issues' in event['entities']:\n",
    "                    print(file)\n",
    "                    print('issues')\n",
    "                    print(event)\n",
    "                    print\n",
    "\n",
    "    if replay and resave_file:\n",
    "        with open(f'../../../data/mlb/pbp/{file}', 'w', encoding='UTF8') as pbp_output:\n",
    "            json.dump(game, pbp_output, indent=2)"
   ]
  },
  {
   "cell_type": "code",
   "execution_count": null,
   "metadata": {},
   "outputs": [],
   "source": []
  },
  {
   "cell_type": "code",
   "execution_count": 4,
   "metadata": {},
   "outputs": [],
   "source": [
    "if dump_file:\n",
    "\n",
    "    keys = set()\n",
    "    text_instances = []\n",
    "\n",
    "    for file in os.listdir('../../../data/mlb/pbp/'):\n",
    "\n",
    "        with open(f'../../../data/mlb/pbp/{file}', 'r', encoding='UTF8') as pbp_input:\n",
    "            game = json.load(pbp_input)\n",
    "\n",
    "        for period in game['periods']:\n",
    "            for event in period['events']:\n",
    "\n",
    "                description = event['desc']\n",
    "                if not description in keys:\n",
    "                    text_instances.append((description, event['entities']))\n",
    "                    keys.add(description)\n",
    "\n",
    "    with open('../../../pipelines/tasks/mlb/common/tests/docs/desc_to_entities.json', 'w') as test_instances:\n",
    "        json.dump(text_instances, test_instances, indent=2)"
   ]
  },
  {
   "cell_type": "code",
   "execution_count": null,
   "metadata": {},
   "outputs": [],
   "source": []
  },
  {
   "cell_type": "code",
   "execution_count": 5,
   "metadata": {},
   "outputs": [],
   "source": [
    "### take entities and remove from description ... should be finite unique???\n"
   ]
  },
  {
   "cell_type": "code",
   "execution_count": null,
   "metadata": {},
   "outputs": [],
   "source": []
  }
 ],
 "metadata": {
  "kernelspec": {
   "display_name": "Python 3",
   "language": "python",
   "name": "python3"
  },
  "language_info": {
   "codemirror_mode": {
    "name": "ipython",
    "version": 3
   },
   "file_extension": ".py",
   "mimetype": "text/x-python",
   "name": "python",
   "nbconvert_exporter": "python",
   "pygments_lexer": "ipython3",
   "version": "3.9.13"
  },
  "orig_nbformat": 4,
  "vscode": {
   "interpreter": {
    "hash": "aee8b7b246df8f9039afb4144a1f6fd8d2ca17a180786b69acc140d282b71a49"
   }
  }
 },
 "nbformat": 4,
 "nbformat_minor": 2
}
