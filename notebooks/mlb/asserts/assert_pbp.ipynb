{
 "cells": [
  {
   "cell_type": "code",
   "execution_count": 1,
   "metadata": {},
   "outputs": [],
   "source": [
    "import os\n",
    "import sys\n",
    "import json\n",
    "from collections import defaultdict\n",
    "import pandas as pd\n",
    "\n",
    "import sys\n",
    "sys.path.insert(0, '../../../pipelines/tasks/mlb/')\n",
    "\n",
    "from common.helpers.extractors import get_game_issues"
   ]
  },
  {
   "cell_type": "code",
   "execution_count": null,
   "metadata": {},
   "outputs": [],
   "source": []
  },
  {
   "cell_type": "code",
   "execution_count": 2,
   "metadata": {},
   "outputs": [
    {
     "data": {
      "text/html": [
       "<div>\n",
       "<style scoped>\n",
       "    .dataframe tbody tr th:only-of-type {\n",
       "        vertical-align: middle;\n",
       "    }\n",
       "\n",
       "    .dataframe tbody tr th {\n",
       "        vertical-align: top;\n",
       "    }\n",
       "\n",
       "    .dataframe thead th {\n",
       "        text-align: right;\n",
       "    }\n",
       "</style>\n",
       "<table border=\"1\" class=\"dataframe\">\n",
       "  <thead>\n",
       "    <tr style=\"text-align: right;\">\n",
       "      <th></th>\n",
       "      <th>WIN</th>\n",
       "      <th>SCORE</th>\n",
       "    </tr>\n",
       "    <tr>\n",
       "      <th>GAME_ID</th>\n",
       "      <th></th>\n",
       "      <th></th>\n",
       "    </tr>\n",
       "  </thead>\n",
       "  <tbody>\n",
       "    <tr>\n",
       "      <th>401354253</th>\n",
       "      <td>L</td>\n",
       "      <td>5-4</td>\n",
       "    </tr>\n",
       "    <tr>\n",
       "      <th>401354266</th>\n",
       "      <td>W</td>\n",
       "      <td>5-2</td>\n",
       "    </tr>\n",
       "    <tr>\n",
       "      <th>401354281</th>\n",
       "      <td>W</td>\n",
       "      <td>10-1</td>\n",
       "    </tr>\n",
       "    <tr>\n",
       "      <th>401354318</th>\n",
       "      <td>W</td>\n",
       "      <td>3-2</td>\n",
       "    </tr>\n",
       "    <tr>\n",
       "      <th>401354331</th>\n",
       "      <td>W</td>\n",
       "      <td>6-4</td>\n",
       "    </tr>\n",
       "  </tbody>\n",
       "</table>\n",
       "</div>"
      ],
      "text/plain": [
       "          WIN SCORE\n",
       "GAME_ID            \n",
       "401354253   L   5-4\n",
       "401354266   W   5-2\n",
       "401354281   W  10-1\n",
       "401354318   W   3-2\n",
       "401354331   W   6-4"
      ]
     },
     "execution_count": 2,
     "metadata": {},
     "output_type": "execute_result"
    }
   ],
   "source": [
    "df = pd.read_csv('../../../data/mlb/schedules.csv', index_col=None)\n",
    "df = df[df.GAME_ID.isin(df.GAME_ID.dropna().tolist())]\n",
    "df.GAME_ID = df.GAME_ID.astype(int)\n",
    "\n",
    "df['WIN'] = df['RESULT'].map(lambda a: a[0])\n",
    "\n",
    "import re\n",
    "def get_score(score):\n",
    "    match = re.search(r'\\d+-\\d+', score)\n",
    "    return match.group(0)\n",
    "\n",
    "df['SCORE'] = df['RESULT'].map(get_score)\n",
    "\n",
    "df = df.loc[:, ['GAME_ID', 'WIN', 'SCORE']]\n",
    "df = df.set_index(['GAME_ID'])\n",
    "df.head()"
   ]
  },
  {
   "cell_type": "code",
   "execution_count": 12,
   "metadata": {},
   "outputs": [],
   "source": [
    "game_lookup = {}\n",
    "for index, row in df.iterrows():\n",
    "    game_lookup[index] = row['SCORE']"
   ]
  },
  {
   "cell_type": "code",
   "execution_count": 3,
   "metadata": {},
   "outputs": [],
   "source": [
    "games = []\n",
    "for file in os.listdir('../../../data/mlb/pbp/2/'):\n",
    "    with open(f'../../../data/mlb/pbp/2/{file}', 'r', encoding='UTF8') as pbp_input:\n",
    "        game = json.load(pbp_input)\n",
    "\n",
    "    games.append(game)"
   ]
  },
  {
   "cell_type": "code",
   "execution_count": null,
   "metadata": {},
   "outputs": [],
   "source": []
  },
  {
   "cell_type": "code",
   "execution_count": 14,
   "metadata": {},
   "outputs": [
    {
     "name": "stdout",
     "output_type": "stream",
     "text": [
      "issues:\n",
      "{'id': '401354277', 'periods': [{'id': 'bottom-1', 'issues': [], 'events': [{'id': 10, 'issues': ['order']}]}]}\n",
      "issues:\n",
      "{'id': '401354386', 'periods': [{'id': 'top-4', 'issues': ['outs'], 'events': []}]}\n",
      "issues:\n",
      "{'id': '401354388', 'periods': [{'id': 'top-8', 'issues': ['outs'], 'events': []}]}\n",
      "issues:\n",
      "{'id': '401354460', 'periods': [{'id': 'bottom-1', 'issues': [], 'events': [{'id': 9, 'issues': ['template', \"- - to -, - to -. (3,000th hit of Miguel Cabrera's career)\"]}]}]}\n",
      "issues:\n",
      "{'id': '401355157', 'periods': [{'id': 'bottom-1', 'issues': ['outs'], 'events': []}]}\n",
      "issues:\n",
      "{'id': '401355159', 'periods': [{'id': 'bottom-10', 'issues': ['bases'], 'events': []}]}\n",
      "bad score:\n",
      "401355174 7-5 6-5\n",
      "issues:\n",
      "{'id': '401355249', 'periods': [{'id': 'top-10', 'issues': ['bases'], 'events': []}]}\n",
      "issues:\n",
      "{'id': '401355366', 'periods': [{'id': 'top-10', 'issues': ['bases'], 'events': []}]}\n",
      "bad score:\n",
      "401355402 6-1 5-1\n",
      "issues:\n",
      "{'id': '401355681', 'periods': [{'id': 'top-10', 'issues': ['bases'], 'events': []}]}\n",
      "issues:\n",
      "{'id': '401355695', 'periods': [{'id': 'top-7', 'issues': ['outs'], 'events': []}]}\n",
      "issues:\n",
      "{'id': '401355756', 'periods': [{'id': 'bottom-11', 'issues': ['bases'], 'events': []}]}\n",
      "issues:\n",
      "{'id': '401356076', 'periods': [{'id': 'bottom-10', 'issues': ['bases'], 'events': []}]}\n",
      "issues:\n",
      "{'id': '401356112', 'periods': [{'id': 'bottom-10', 'issues': ['bases'], 'events': []}]}\n",
      "bad score:\n",
      "401356126 15-7 14-7\n",
      "issues:\n",
      "{'id': '401356377', 'periods': [{'id': 'top-15', 'issues': ['bases'], 'events': []}, {'id': 'bottom-15', 'issues': ['bases'], 'events': []}]}\n",
      "bad score:\n",
      "401356531 10-3 9-3\n",
      "issues:\n",
      "{'id': '401356531', 'periods': [{'id': 'bottom-5', 'issues': [], 'events': [{'id': 52, 'issues': ['template', 'Barnhart, - safe at - on - by - - -']}]}]}\n",
      "issues:\n",
      "{'id': '401423181', 'periods': [{'id': 'top-10', 'issues': ['bases'], 'events': []}]}\n"
     ]
    }
   ],
   "source": [
    "for game in games:\n",
    "\n",
    "    runs = defaultdict(lambda: 0)\n",
    "\n",
    "    for period in game['periods']:\n",
    "        runs[period['atBat']] += sum(\n",
    "            event['entities']['runs'] if 'runs' in event['entities'] else 0\n",
    "            for event in period['events']\n",
    "        )\n",
    "\n",
    "        for event in period['events']:\n",
    "            if 'isInfoPlay' in event:\n",
    "                continue\n",
    "\n",
    "    score = game_lookup[int(game['id'])]\n",
    "    current_game_score = '-'.join(\n",
    "        list(map(str, sorted(runs.values(), reverse=True)))\n",
    "    )\n",
    "\n",
    "    if score != current_game_score:\n",
    "        print('bad score:')\n",
    "        print(game['id'], score, current_game_score)\n",
    "\n",
    "    issues = get_game_issues(game)\n",
    "    if any(issues['periods']):\n",
    "        if issues == ['bases'] or issues == ['outs']:\n",
    "            continue\n",
    "        print('issues:')\n",
    "        print(issues)"
   ]
  },
  {
   "cell_type": "markdown",
   "metadata": {},
   "source": []
  },
  {
   "cell_type": "code",
   "execution_count": null,
   "metadata": {},
   "outputs": [
    {
     "name": "stdout",
     "output_type": "stream",
     "text": [
      "{'isScoringPlay': False, 'score': {'away': 3, 'home': 0}, 'desc': 'Haggerty singled to center, Crawford safe to third, Haggerty safe at second on throwing error by shortstop Báez, ', 'id': 35, 'entities': {'player': 'Haggerty', 'type': 'singled', 'at': 'center', 'moves': [{'player': 'Crawford', 'type': 'advanced', 'at': 'third'}, {'player': 'Haggerty', 'type': 'advanced', 'at': 'second', 'how': 'throwing error', 'by': 'Báez'}]}}\n"
     ]
    }
   ],
   "source": [
    "from copy import deepcopy\n",
    "\n",
    "\n",
    "for game in games:\n",
    "    if game['id'] == '401356173':\n",
    "        for period in game['periods']:\n",
    "\n",
    "            for event in period['events']:\n",
    "                if event['id'] == 35:\n",
    "                    t = deepcopy(event)\n",
    "                    if 'pitches' in t:\n",
    "                        del t['pitches']\n",
    "                    print(t)\n"
   ]
  },
  {
   "cell_type": "code",
   "execution_count": null,
   "metadata": {},
   "outputs": [
    {
     "name": "stdout",
     "output_type": "stream",
     "text": [
      "{'desc': 'B. Singer pitching for KC', 'isInfoPlay': True, 'id': 38, 'entities': {'player': 'B. Singer', 'type': 'sub-p', 'team': 'KC'}}\n",
      "{'isScoringPlay': False, 'score': {'away': 0, 'home': 3}, 'desc': 'L. Raley struck out swinging.', 'id': 39, 'entities': {'player': 'L. Raley', 'type': 'struck out', 'outs': 1, 'effort': 'swinging'}}\n",
      "{'isScoringPlay': False, 'score': {'away': 0, 'home': 3}, 'desc': 'Choi grounded out to second.', 'id': 40, 'entities': {'outs': 1, 'player': 'Choi', 'type': 'grounded out', 'at': 'second'}}\n",
      "{'isScoringPlay': False, 'score': {'away': 0, 'home': 3}, 'desc': 'Walls struck out swinging.', 'id': 41, 'entities': {'player': 'Walls', 'type': 'struck out', 'outs': 1, 'effort': 'swinging'}}\n"
     ]
    }
   ],
   "source": [
    "from copy import deepcopy\n",
    "\n",
    "\n",
    "for game in games:\n",
    "    if game['id'] == '401355641':\n",
    "        for period in game['periods']:\n",
    "\n",
    "            if period['id'] == 'top-4':\n",
    "                for event in period['events']:\n",
    "                    t = deepcopy(event)\n",
    "                    if 'pitches' in t:\n",
    "                        del t['pitches']\n",
    "                    print(t)\n"
   ]
  }
 ],
 "metadata": {
  "kernelspec": {
   "display_name": "Python 3.9.1 ('rc': venv)",
   "language": "python",
   "name": "python3"
  },
  "language_info": {
   "codemirror_mode": {
    "name": "ipython",
    "version": 3
   },
   "file_extension": ".py",
   "mimetype": "text/x-python",
   "name": "python",
   "nbconvert_exporter": "python",
   "pygments_lexer": "ipython3",
   "version": "3.9.1"
  },
  "orig_nbformat": 4,
  "vscode": {
   "interpreter": {
    "hash": "37ccdc49af6bbf3b44a948289a8ffe5009232bb69cecd1ea2152cf52fef62a68"
   }
  }
 },
 "nbformat": 4,
 "nbformat_minor": 2
}
