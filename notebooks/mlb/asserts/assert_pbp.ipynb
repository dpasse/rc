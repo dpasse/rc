{
 "cells": [
  {
   "cell_type": "code",
   "execution_count": 1,
   "metadata": {},
   "outputs": [],
   "source": [
    "import os\n",
    "import sys\n",
    "import json\n",
    "\n",
    "sys.path.insert(0, '../../../pipelines/tasks/mlb/')\n",
    "\n",
    "from common.helpers.parsers import EventDescriptionParser"
   ]
  },
  {
   "cell_type": "code",
   "execution_count": null,
   "metadata": {},
   "outputs": [],
   "source": []
  },
  {
   "cell_type": "code",
   "execution_count": 2,
   "metadata": {},
   "outputs": [],
   "source": [
    "replay = False\n",
    "parser = EventDescriptionParser()\n",
    "\n",
    "for file in os.listdir('../../../data/mlb/pbp/'):\n",
    "\n",
    "    with open(f'../../../data/mlb/pbp/{file}', 'r', encoding='UTF8') as pbp_input:\n",
    "        game = json.load(pbp_input)\n",
    "\n",
    "    for period in game['periods']:\n",
    "        for event in period['events']:\n",
    "\n",
    "            if replay:\n",
    "                event['entities'] = parser.transform_into_object(event['desc'])\n",
    "\n",
    "            if not 'entities' in event:\n",
    "                print(event)"
   ]
  },
  {
   "cell_type": "code",
   "execution_count": null,
   "metadata": {},
   "outputs": [],
   "source": []
  },
  {
   "cell_type": "code",
   "execution_count": 3,
   "metadata": {},
   "outputs": [],
   "source": [
    "players = set()\n",
    "ats = set()\n",
    "event_types = set()\n",
    "\n",
    "bad_ats = []\n",
    "bad_types = []\n",
    "bad_players = []\n",
    "\n",
    "replay = False\n",
    "parser = EventDescriptionParser()\n",
    "\n",
    "for file in os.listdir('../../../data/mlb/pbp/'):\n",
    "\n",
    "    with open(f'../../../data/mlb/pbp/{file}', 'r', encoding='UTF8') as pbp_input:\n",
    "        game = json.load(pbp_input)\n",
    "\n",
    "    for period in game['periods']:\n",
    "        for event in period['events']:\n",
    "\n",
    "            if replay:\n",
    "                event['entities'] = parser.transform_into_object(event['desc'])\n",
    "\n",
    "            entities = event['entities'] if 'entities' in event else {}\n",
    "\n",
    "            if 'player' in entities:\n",
    "                players.add(entities['player'])\n",
    "\n",
    "                if entities['player'] in bad_players:\n",
    "                    print(entities)\n",
    "                    print(event)\n",
    "                    print(file)\n",
    "                    print()\n",
    "\n",
    "            if 'at' in entities:\n",
    "                ats.add(entities['at'])\n",
    "\n",
    "                if entities['at'] in bad_ats:\n",
    "                    print(entities)\n",
    "                    print(event)\n",
    "                    print(file)\n",
    "                    print()\n",
    "\n",
    "            if 'type' in entities:\n",
    "                event_types.add(entities['type'])\n",
    "\n",
    "                if entities['type'] in bad_types:\n",
    "                    print(entities)\n",
    "                    print(event)\n",
    "                    print(file)\n",
    "                    print()\n",
    "\n",
    "            if 'moves' in entities:\n",
    "                for move in entities['moves']:\n",
    "                    if 'player' in move:\n",
    "                        players.add(move['player'])\n",
    "\n",
    "                        if move['player'] in bad_players:\n",
    "                            print(entities)\n",
    "                            print(event)\n",
    "                            print(file)\n",
    "                            print()\n",
    "\n",
    "                    if 'at' in move:\n",
    "                        ats.add(move['at'])\n",
    "\n",
    "                        if move['at'] in bad_ats:\n",
    "                            print(entities)\n",
    "                            print(event)\n",
    "                            print(file)\n",
    "                            print()\n",
    "\n",
    "                    if 'type' in move:\n",
    "                        event_types.add(move['type'])\n",
    "\n",
    "                        if move['type'] in bad_types:\n",
    "                            print(entities)\n",
    "                            print(event)\n",
    "                            print(file)\n",
    "                            print()"
   ]
  },
  {
   "cell_type": "code",
   "execution_count": 4,
   "metadata": {},
   "outputs": [
    {
     "data": {
      "text/plain": [
       "[\"grounded into fielder's choice\",\n",
       " 'grounded into double play',\n",
       " \"catcher's interference\",\n",
       " 'intentionally walked',\n",
       " 'ground rule double',\n",
       " 'caught stealing',\n",
       " 'infield single',\n",
       " 'throwing error',\n",
       " 'fielding error',\n",
       " 'sacrifice fly',\n",
       " 'grounded out',\n",
       " 'hit by pitch',\n",
       " 'bunt single',\n",
       " 'picked off',\n",
       " 'fouled out',\n",
       " 'popped out',\n",
       " 'struck out',\n",
       " 'wild pitch',\n",
       " 'lined out',\n",
       " 'flied out',\n",
       " 'advanced',\n",
       " 'homered',\n",
       " 'doubled',\n",
       " 'singled',\n",
       " 'tripled',\n",
       " 'walked',\n",
       " 'sub-f',\n",
       " 'sub-p',\n",
       " 'stole',\n",
       " 'out']"
      ]
     },
     "execution_count": 4,
     "metadata": {},
     "output_type": "execute_result"
    }
   ],
   "source": [
    "sorted(event_types, key=len, reverse=True)"
   ]
  },
  {
   "cell_type": "code",
   "execution_count": 5,
   "metadata": {},
   "outputs": [
    {
     "data": {
      "text/plain": [
       "['first baseman Ty France',\n",
       " 'shallow right center',\n",
       " 'shallow left center',\n",
       " 'deep right center',\n",
       " 'deep left center',\n",
       " 'home in rundown',\n",
       " 'shallow center',\n",
       " 'shallow left',\n",
       " 'right center',\n",
       " 'left center',\n",
       " 'deep center',\n",
       " 'deep right',\n",
       " 'deep left',\n",
       " 'shortstop',\n",
       " 'pitcher',\n",
       " 'catcher',\n",
       " 'center',\n",
       " 'second',\n",
       " 'third',\n",
       " 'first',\n",
       " 'right',\n",
       " 'home',\n",
       " 'left']"
      ]
     },
     "execution_count": 5,
     "metadata": {},
     "output_type": "execute_result"
    }
   ],
   "source": [
    "sorted(ats, key=len, reverse=True)"
   ]
  },
  {
   "cell_type": "code",
   "execution_count": 6,
   "metadata": {},
   "outputs": [
    {
     "data": {
      "text/plain": [
       "['catcher Tom Murphy', 'catcher']"
      ]
     },
     "execution_count": 6,
     "metadata": {},
     "output_type": "execute_result"
    }
   ],
   "source": [
    "output = []\n",
    "for player in players:\n",
    "    for chunk in player.split(' '):\n",
    "        if chunk[0].islower():\n",
    "            output.append(player)\n",
    "\n",
    "sorted(output, key=len, reverse=True)"
   ]
  },
  {
   "cell_type": "code",
   "execution_count": null,
   "metadata": {},
   "outputs": [],
   "source": []
  }
 ],
 "metadata": {
  "kernelspec": {
   "display_name": "Python 3",
   "language": "python",
   "name": "python3"
  },
  "language_info": {
   "codemirror_mode": {
    "name": "ipython",
    "version": 3
   },
   "file_extension": ".py",
   "mimetype": "text/x-python",
   "name": "python",
   "nbconvert_exporter": "python",
   "pygments_lexer": "ipython3",
   "version": "3.9.13"
  },
  "orig_nbformat": 4,
  "vscode": {
   "interpreter": {
    "hash": "aee8b7b246df8f9039afb4144a1f6fd8d2ca17a180786b69acc140d282b71a49"
   }
  }
 },
 "nbformat": 4,
 "nbformat_minor": 2
}
