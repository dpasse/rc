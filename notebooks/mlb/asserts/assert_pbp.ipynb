{
 "cells": [
  {
   "cell_type": "code",
   "execution_count": 1,
   "metadata": {},
   "outputs": [],
   "source": [
    "import os\n",
    "import sys\n",
    "import json\n",
    "\n",
    "sys.path.insert(0, '../../../pipelines/tasks/mlb/')\n",
    "\n",
    "from common.helpers.parsers import parse_game"
   ]
  },
  {
   "cell_type": "code",
   "execution_count": null,
   "metadata": {},
   "outputs": [],
   "source": []
  },
  {
   "cell_type": "code",
   "execution_count": 2,
   "metadata": {},
   "outputs": [],
   "source": [
    "dump_file = False"
   ]
  },
  {
   "cell_type": "code",
   "execution_count": 3,
   "metadata": {},
   "outputs": [
    {
     "name": "stdout",
     "output_type": "stream",
     "text": [
      "issues\n",
      "{'isScoringPlay': False, 'pitches': [{'coords': {'x': 155, 'y': 150}, 'velocity': 95, 'type': 'four-seam fb', 'order': 1, 'result': {'type': 'strike', 'outcome': 'strike looking', 'bases': [1, 0, 0]}, 'count': {'balls': 0, 'strikes': 0}}, {'coords': {'x': 120, 'y': 163}, 'velocity': 88, 'type': 'slider', 'order': 2, 'result': {'type': 'strike', 'outcome': 'strike swinging', 'bases': [1, 0, 0]}, 'count': {'balls': 0, 'strikes': 1}}, {'coords': {'x': 109, 'y': 209}, 'velocity': 87, 'type': 'slider', 'order': 3, 'result': {'type': 'strike', 'outcome': 'strike swinging', 'bases': [1, 0, 0]}, 'count': {'balls': 0, 'strikes': 2}}], 'score': {'away': 0, 'home': 1}, 'desc': 'Kirilloff struck out swinging, catcher Tom Murphy to first baseman Ty France.', 'entities': {'player': 'Kirilloff', 'type': 'struck out', 'outs': 1, 'order': ['catcher Tom Murphy', 'first baseman Ty France'], 'effort': 'swinging', 'issues': ['order']}, 'id': 10}\n",
      "\n"
     ]
    }
   ],
   "source": [
    "for file in os.listdir('../../../data/mlb/pbp/'):\n",
    "    with open(f'../../../data/mlb/pbp/{file}', 'r', encoding='UTF8') as pbp_input:\n",
    "        game = json.load(pbp_input)\n",
    "\n",
    "    for period in game['periods']:\n",
    "        for event in period['events']:\n",
    "\n",
    "            if not 'entities' in event:\n",
    "                ## print(file)\n",
    "                print('entities')\n",
    "                print(event)\n",
    "                print()\n",
    "            else:\n",
    "                if 'issues' in event['entities']:\n",
    "                    ## print(file)\n",
    "                    print('issues')\n",
    "                    print(event)\n",
    "                    print()"
   ]
  },
  {
   "cell_type": "code",
   "execution_count": null,
   "metadata": {},
   "outputs": [],
   "source": []
  },
  {
   "cell_type": "code",
   "execution_count": 4,
   "metadata": {},
   "outputs": [],
   "source": [
    "if dump_file:\n",
    "\n",
    "    keys = set()\n",
    "    text_instances = []\n",
    "\n",
    "    for file in os.listdir('../../../data/mlb/pbp/'):\n",
    "\n",
    "        with open(f'../../../data/mlb/pbp/{file}', 'r', encoding='UTF8') as pbp_input:\n",
    "            game = json.load(pbp_input)\n",
    "\n",
    "        for period in game['periods']:\n",
    "            for event in period['events']:\n",
    "\n",
    "                description = event['desc']\n",
    "                if not description in keys:\n",
    "                    text_instances.append((description, event['entities']))\n",
    "                    keys.add(description)\n",
    "\n",
    "    with open('../../../pipelines/tasks/mlb/common/tests/docs/desc_to_entities.json', 'w') as test_instances:\n",
    "        json.dump(text_instances, test_instances, indent=2)"
   ]
  },
  {
   "cell_type": "code",
   "execution_count": null,
   "metadata": {},
   "outputs": [],
   "source": []
  }
 ],
 "metadata": {
  "kernelspec": {
   "display_name": "Python 3",
   "language": "python",
   "name": "python3"
  },
  "language_info": {
   "codemirror_mode": {
    "name": "ipython",
    "version": 3
   },
   "file_extension": ".py",
   "mimetype": "text/x-python",
   "name": "python",
   "nbconvert_exporter": "python",
   "pygments_lexer": "ipython3",
   "version": "3.9.13"
  },
  "orig_nbformat": 4,
  "vscode": {
   "interpreter": {
    "hash": "aee8b7b246df8f9039afb4144a1f6fd8d2ca17a180786b69acc140d282b71a49"
   }
  }
 },
 "nbformat": 4,
 "nbformat_minor": 2
}
