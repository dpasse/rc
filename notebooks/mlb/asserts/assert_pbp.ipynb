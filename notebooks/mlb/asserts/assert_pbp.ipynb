{
 "cells": [
  {
   "cell_type": "code",
   "execution_count": 1,
   "metadata": {},
   "outputs": [],
   "source": [
    "import os\n",
    "import sys\n",
    "import json\n",
    "from collections import defaultdict\n",
    "import pandas as pd"
   ]
  },
  {
   "cell_type": "code",
   "execution_count": 2,
   "metadata": {},
   "outputs": [
    {
     "data": {
      "text/html": [
       "<div>\n",
       "<style scoped>\n",
       "    .dataframe tbody tr th:only-of-type {\n",
       "        vertical-align: middle;\n",
       "    }\n",
       "\n",
       "    .dataframe tbody tr th {\n",
       "        vertical-align: top;\n",
       "    }\n",
       "\n",
       "    .dataframe thead th {\n",
       "        text-align: right;\n",
       "    }\n",
       "</style>\n",
       "<table border=\"1\" class=\"dataframe\">\n",
       "  <thead>\n",
       "    <tr style=\"text-align: right;\">\n",
       "      <th></th>\n",
       "      <th>WIN</th>\n",
       "      <th>SCORE</th>\n",
       "    </tr>\n",
       "    <tr>\n",
       "      <th>GAME_ID</th>\n",
       "      <th></th>\n",
       "      <th></th>\n",
       "    </tr>\n",
       "  </thead>\n",
       "  <tbody>\n",
       "    <tr>\n",
       "      <th>401427971</th>\n",
       "      <td>L</td>\n",
       "      <td>2-1</td>\n",
       "    </tr>\n",
       "    <tr>\n",
       "      <th>401354277</th>\n",
       "      <td>L</td>\n",
       "      <td>4-3</td>\n",
       "    </tr>\n",
       "    <tr>\n",
       "      <th>401354292</th>\n",
       "      <td>W</td>\n",
       "      <td>10-4</td>\n",
       "    </tr>\n",
       "    <tr>\n",
       "      <th>401354303</th>\n",
       "      <td>W</td>\n",
       "      <td>4-0</td>\n",
       "    </tr>\n",
       "    <tr>\n",
       "      <th>401354312</th>\n",
       "      <td>L</td>\n",
       "      <td>7-2</td>\n",
       "    </tr>\n",
       "    <tr>\n",
       "      <th>...</th>\n",
       "      <td>...</td>\n",
       "      <td>...</td>\n",
       "    </tr>\n",
       "    <tr>\n",
       "      <th>401356561</th>\n",
       "      <td>L</td>\n",
       "      <td>3-2</td>\n",
       "    </tr>\n",
       "    <tr>\n",
       "      <th>401356576</th>\n",
       "      <td>L</td>\n",
       "      <td>5-2</td>\n",
       "    </tr>\n",
       "    <tr>\n",
       "      <th>401423191</th>\n",
       "      <td>L</td>\n",
       "      <td>3-2</td>\n",
       "    </tr>\n",
       "    <tr>\n",
       "      <th>401423208</th>\n",
       "      <td>L</td>\n",
       "      <td>8-3</td>\n",
       "    </tr>\n",
       "    <tr>\n",
       "      <th>401423223</th>\n",
       "      <td>W</td>\n",
       "      <td>10-1</td>\n",
       "    </tr>\n",
       "  </tbody>\n",
       "</table>\n",
       "<p>162 rows × 2 columns</p>\n",
       "</div>"
      ],
      "text/plain": [
       "          WIN SCORE\n",
       "GAME_ID            \n",
       "401427971   L   2-1\n",
       "401354277   L   4-3\n",
       "401354292   W  10-4\n",
       "401354303   W   4-0\n",
       "401354312   L   7-2\n",
       "...        ..   ...\n",
       "401356561   L   3-2\n",
       "401356576   L   5-2\n",
       "401423191   L   3-2\n",
       "401423208   L   8-3\n",
       "401423223   W  10-1\n",
       "\n",
       "[162 rows x 2 columns]"
      ]
     },
     "execution_count": 2,
     "metadata": {},
     "output_type": "execute_result"
    }
   ],
   "source": [
    "\n",
    "\n",
    "\n",
    "df = pd.read_csv('../../../data/mlb/schedules.csv', index_col=None)\n",
    "df = df[df.GAME_ID.isin(df.GAME_ID.dropna().tolist())]\n",
    "df.GAME_ID = df.GAME_ID.astype(int)\n",
    "\n",
    "df['WIN'] = df['RESULT'].map(lambda a: a[0])\n",
    "\n",
    "import re\n",
    "def get_score(score):\n",
    "    match = re.search(r'\\d+-\\d+', score)\n",
    "    return match.group(0)\n",
    "\n",
    "df['SCORE'] = df['RESULT'].map(get_score)\n",
    "\n",
    "df = df.loc[:, ['GAME_ID', 'WIN', 'SCORE']]\n",
    "df = df.set_index(['GAME_ID'])\n",
    "df\n",
    "\n"
   ]
  },
  {
   "cell_type": "code",
   "execution_count": 3,
   "metadata": {},
   "outputs": [],
   "source": [
    "dump_file = True"
   ]
  },
  {
   "cell_type": "code",
   "execution_count": 4,
   "metadata": {},
   "outputs": [],
   "source": [
    "games = []\n",
    "for file in os.listdir('../../../data/mlb/pbp/'):\n",
    "    with open(f'../../../data/mlb/pbp/{file}', 'r', encoding='UTF8') as pbp_input:\n",
    "        game = json.load(pbp_input)\n",
    "\n",
    "    games.append(game)"
   ]
  },
  {
   "cell_type": "code",
   "execution_count": null,
   "metadata": {},
   "outputs": [],
   "source": []
  },
  {
   "cell_type": "code",
   "execution_count": 5,
   "metadata": {},
   "outputs": [
    {
     "name": "stdout",
     "output_type": "stream",
     "text": [
      "issues\n",
      "{'isScoringPlay': False, 'pitches': [{'coords': {'x': 155, 'y': 150}, 'velocity': 95, 'type': 'four-seam fb', 'order': 1, 'result': {'type': 'strike', 'outcome': 'strike looking', 'bases': [1, 0, 0]}, 'count': {'balls': 0, 'strikes': 0}, 'prior': {'bases': [1, 0, 0]}}, {'coords': {'x': 120, 'y': 163}, 'velocity': 88, 'type': 'slider', 'order': 2, 'result': {'type': 'strike', 'outcome': 'strike swinging', 'bases': [1, 0, 0]}, 'count': {'balls': 0, 'strikes': 1}, 'prior': {'bases': [1, 0, 0]}}, {'coords': {'x': 109, 'y': 209}, 'velocity': 87, 'type': 'slider', 'order': 3, 'result': {'type': 'strike', 'outcome': 'strike swinging', 'bases': [1, 0, 0]}, 'count': {'balls': 0, 'strikes': 2}, 'prior': {'bases': [1, 0, 0]}}], 'score': {'away': 0, 'home': 1}, 'desc': 'Kirilloff struck out swinging, catcher Tom Murphy to first baseman Ty France.', 'entities': {'player': 'Kirilloff', 'type': 'struck out', 'outs': 1, 'order': ['catcher Tom Murphy', 'first baseman Ty France'], 'effort': 'swinging', 'issues': ['order']}, 'id': 10}\n",
      "\n"
     ]
    }
   ],
   "source": [
    "for game in games:\n",
    "\n",
    "    runs = defaultdict(lambda: 0)\n",
    "    \n",
    "    for period in game['periods']:\n",
    "\n",
    "        atBat = period['atBat']\n",
    "        runs[atBat] += 0\n",
    "\n",
    "        for event in period['events']:\n",
    "\n",
    "            entities = event['entities']\n",
    "            if 'issues' in entities:\n",
    "                print('issues')\n",
    "                print(event)\n",
    "                print()\n",
    "\n",
    "            if 'runs' in entities:\n",
    "                runs[atBat] += entities['runs']\n",
    "\n",
    "        if 'issues' in period:\n",
    "            print('issues')\n",
    "            print(period)\n",
    "            print()\n",
    "\n",
    "    score = df.loc[int(game['id'])].SCORE\n",
    "    current_game_score = '-'.join(\n",
    "        list(map(str, sorted(runs.values(), reverse=True)))\n",
    "    )\n",
    "\n",
    "    if score != current_game_score:\n",
    "        print(game['id'], score, current_game_score)\n"
   ]
  },
  {
   "cell_type": "code",
   "execution_count": null,
   "metadata": {},
   "outputs": [],
   "source": [
    "\n"
   ]
  },
  {
   "cell_type": "code",
   "execution_count": 6,
   "metadata": {},
   "outputs": [],
   "source": [
    "if dump_file:\n",
    "\n",
    "    keys = set()\n",
    "    text_instances = []\n",
    "\n",
    "    for file in os.listdir('../../../data/mlb/pbp/'):\n",
    "\n",
    "        with open(f'../../../data/mlb/pbp/{file}', 'r', encoding='UTF8') as pbp_input:\n",
    "            game = json.load(pbp_input)\n",
    "\n",
    "        for period in game['periods']:\n",
    "            for event in period['events']:\n",
    "\n",
    "                description = event['desc']\n",
    "                if not description in keys:\n",
    "                    text_instances.append((description, event['entities']))\n",
    "                    keys.add(description)\n",
    "\n",
    "    with open('../../../pipelines/tasks/mlb/common/tests/docs/desc_to_entities.json', 'w') as test_instances:\n",
    "        json.dump(text_instances, test_instances, indent=2)"
   ]
  },
  {
   "cell_type": "code",
   "execution_count": null,
   "metadata": {},
   "outputs": [],
   "source": []
  }
 ],
 "metadata": {
  "kernelspec": {
   "display_name": "Python 3",
   "language": "python",
   "name": "python3"
  },
  "language_info": {
   "codemirror_mode": {
    "name": "ipython",
    "version": 3
   },
   "file_extension": ".py",
   "mimetype": "text/x-python",
   "name": "python",
   "nbconvert_exporter": "python",
   "pygments_lexer": "ipython3",
   "version": "3.9.13"
  },
  "orig_nbformat": 4,
  "vscode": {
   "interpreter": {
    "hash": "aee8b7b246df8f9039afb4144a1f6fd8d2ca17a180786b69acc140d282b71a49"
   }
  }
 },
 "nbformat": 4,
 "nbformat_minor": 2
}
