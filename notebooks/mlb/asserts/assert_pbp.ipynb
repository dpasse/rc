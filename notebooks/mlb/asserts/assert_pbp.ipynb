{
 "cells": [
  {
   "cell_type": "code",
   "execution_count": 11,
   "metadata": {},
   "outputs": [],
   "source": [
    "import os\n",
    "import sys\n",
    "import json\n",
    "from collections import defaultdict\n",
    "import pandas as pd\n",
    "\n",
    "import sys\n",
    "sys.path.insert(0, '../../../pipelines/tasks/mlb/')\n",
    "\n",
    "from common.helpers.extractors import get_game_issues"
   ]
  },
  {
   "cell_type": "code",
   "execution_count": null,
   "metadata": {},
   "outputs": [],
   "source": []
  },
  {
   "cell_type": "code",
   "execution_count": 12,
   "metadata": {},
   "outputs": [
    {
     "data": {
      "text/html": [
       "<div>\n",
       "<style scoped>\n",
       "    .dataframe tbody tr th:only-of-type {\n",
       "        vertical-align: middle;\n",
       "    }\n",
       "\n",
       "    .dataframe tbody tr th {\n",
       "        vertical-align: top;\n",
       "    }\n",
       "\n",
       "    .dataframe thead th {\n",
       "        text-align: right;\n",
       "    }\n",
       "</style>\n",
       "<table border=\"1\" class=\"dataframe\">\n",
       "  <thead>\n",
       "    <tr style=\"text-align: right;\">\n",
       "      <th></th>\n",
       "      <th>WIN</th>\n",
       "      <th>SCORE</th>\n",
       "    </tr>\n",
       "    <tr>\n",
       "      <th>GAME_ID</th>\n",
       "      <th></th>\n",
       "      <th></th>\n",
       "    </tr>\n",
       "  </thead>\n",
       "  <tbody>\n",
       "    <tr>\n",
       "      <th>401427971</th>\n",
       "      <td>L</td>\n",
       "      <td>2-1</td>\n",
       "    </tr>\n",
       "    <tr>\n",
       "      <th>401354277</th>\n",
       "      <td>L</td>\n",
       "      <td>4-3</td>\n",
       "    </tr>\n",
       "    <tr>\n",
       "      <th>401354292</th>\n",
       "      <td>W</td>\n",
       "      <td>10-4</td>\n",
       "    </tr>\n",
       "    <tr>\n",
       "      <th>401354303</th>\n",
       "      <td>W</td>\n",
       "      <td>4-0</td>\n",
       "    </tr>\n",
       "    <tr>\n",
       "      <th>401354312</th>\n",
       "      <td>L</td>\n",
       "      <td>7-2</td>\n",
       "    </tr>\n",
       "  </tbody>\n",
       "</table>\n",
       "</div>"
      ],
      "text/plain": [
       "          WIN SCORE\n",
       "GAME_ID            \n",
       "401427971   L   2-1\n",
       "401354277   L   4-3\n",
       "401354292   W  10-4\n",
       "401354303   W   4-0\n",
       "401354312   L   7-2"
      ]
     },
     "execution_count": 12,
     "metadata": {},
     "output_type": "execute_result"
    }
   ],
   "source": [
    "df = pd.read_csv('../../../data/mlb/schedules.csv', index_col=None)\n",
    "df = df[df.GAME_ID.isin(df.GAME_ID.dropna().tolist())]\n",
    "df.GAME_ID = df.GAME_ID.astype(int)\n",
    "\n",
    "df['WIN'] = df['RESULT'].map(lambda a: a[0])\n",
    "\n",
    "import re\n",
    "def get_score(score):\n",
    "    match = re.search(r'\\d+-\\d+', score)\n",
    "    return match.group(0)\n",
    "\n",
    "df['SCORE'] = df['RESULT'].map(get_score)\n",
    "\n",
    "df = df.loc[:, ['GAME_ID', 'WIN', 'SCORE']]\n",
    "df = df.set_index(['GAME_ID'])\n",
    "df.head()"
   ]
  },
  {
   "cell_type": "code",
   "execution_count": 13,
   "metadata": {},
   "outputs": [],
   "source": [
    "game_lookup = {}\n",
    "for index, row in df.iterrows():\n",
    "    game_lookup[index] = row['SCORE']"
   ]
  },
  {
   "cell_type": "code",
   "execution_count": 14,
   "metadata": {},
   "outputs": [],
   "source": [
    "games = []\n",
    "for file in os.listdir('../../../data/mlb/pbp/2/'):\n",
    "    with open(f'../../../data/mlb/pbp/2/{file}', 'r', encoding='UTF8') as pbp_input:\n",
    "        game = json.load(pbp_input)\n",
    "\n",
    "    games.append(game)"
   ]
  },
  {
   "cell_type": "code",
   "execution_count": null,
   "metadata": {},
   "outputs": [],
   "source": []
  },
  {
   "cell_type": "code",
   "execution_count": 18,
   "metadata": {},
   "outputs": [
    {
     "name": "stdout",
     "output_type": "stream",
     "text": [
      "issues:\n",
      "{'id': '401354388', 'periods': [{'id': 'top-8', 'issues': ['outs'], 'events': []}]}\n",
      "issues:\n",
      "{'id': '401355366', 'periods': [{'id': 'top-10', 'issues': ['bases'], 'events': []}]}\n",
      "issues:\n",
      "{'id': '401423181', 'periods': [{'id': 'top-10', 'issues': ['bases'], 'events': []}]}\n",
      "issues:\n",
      "{'id': '401355756', 'periods': [{'id': 'bottom-11', 'issues': ['bases'], 'events': []}]}\n",
      "issues:\n",
      "{'id': '401356377', 'periods': [{'id': 'top-15', 'issues': ['bases'], 'events': []}, {'id': 'bottom-15', 'issues': ['bases'], 'events': []}]}\n",
      "issues:\n",
      "{'id': '401355157', 'periods': [{'id': 'bottom-1', 'issues': ['outs'], 'events': [{'id': 12, 'issues': ['move.at']}]}]}\n",
      "issues:\n",
      "{'id': '401355249', 'periods': [{'id': 'top-10', 'issues': ['bases'], 'events': []}]}\n",
      "issues:\n",
      "{'id': '401355681', 'periods': [{'id': 'top-10', 'issues': ['bases'], 'events': []}]}\n",
      "issues:\n",
      "{'id': '401356112', 'periods': [{'id': 'bottom-10', 'issues': ['bases'], 'events': []}]}\n",
      "issues:\n",
      "{'id': '401355159', 'periods': [{'id': 'bottom-10', 'issues': ['bases'], 'events': []}]}\n",
      "issues:\n",
      "{'id': '401356076', 'periods': [{'id': 'bottom-10', 'issues': ['bases'], 'events': []}]}\n",
      "issues:\n",
      "{'id': '401354277', 'periods': [{'id': 'bottom-1', 'issues': [], 'events': [{'id': 10, 'issues': ['order']}]}]}\n",
      "issues:\n",
      "{'id': '401354386', 'periods': [{'id': 'top-4', 'issues': ['outs'], 'events': []}]}\n"
     ]
    }
   ],
   "source": [
    "for game in games:\n",
    "\n",
    "    runs = defaultdict(lambda: 0)\n",
    "\n",
    "    for period in game['periods']:\n",
    "        runs[period['atBat']] += period['score']['runs']\n",
    "        for event in period['events']:\n",
    "            if 'isInfoPlay' in event:\n",
    "                continue\n",
    "\n",
    "    key = int(game['id'])\n",
    "    if key in game_lookup:\n",
    "        score = game_lookup[key]\n",
    "        current_game_score = '-'.join(\n",
    "            list(map(str, sorted(runs.values(), reverse=True)))\n",
    "        )\n",
    "\n",
    "        if score != current_game_score:\n",
    "            print('bad score:')\n",
    "            print(game['id'], score, current_game_score)\n",
    "\n",
    "    issues = get_game_issues(game)\n",
    "    if any(issues['periods']):\n",
    "        if issues == ['bases'] or issues == ['outs']:\n",
    "            continue\n",
    "\n",
    "        print('issues:')\n",
    "        print(issues)"
   ]
  },
  {
   "cell_type": "markdown",
   "metadata": {},
   "source": []
  },
  {
   "cell_type": "code",
   "execution_count": 16,
   "metadata": {},
   "outputs": [],
   "source": [
    "from copy import deepcopy\n",
    "\n",
    "\n",
    "for game in games:\n",
    "    if game['id'] == '401355174':\n",
    "        for period in game['periods']:\n",
    "\n",
    "            for event in period['events']:\n",
    "                #if event['id'] == 35:\n",
    "                t = deepcopy(event)\n",
    "                if 'pitches' in t:\n",
    "                    del t['pitches']\n",
    "                print(t['entities'], t['desc'])\n"
   ]
  },
  {
   "cell_type": "code",
   "execution_count": 17,
   "metadata": {},
   "outputs": [
    {
     "name": "stdout",
     "output_type": "stream",
     "text": [
      "{'runs': 1, 'hits': 2, 'errors': 0, 'outs': 4}\n",
      "{'player': 'D. Cease', 'type': 'sub-p', 'team': 'CHW'} D. Cease pitching for CHW\n",
      "{'player': 'Reyes', 'type': 'singled', 'at': 'left'} Reyes singled to left.\n",
      "{'player': 'H. Castro', 'type': 'singled', 'at': 'deep right', 'moves': [{'player': 'Reyes', 'type': 'advanced', 'at': 'third'}]} H. Castro singled to deep right, Reyes to third.\n",
      "{'player': 'W. Castro', 'type': 'struck out', 'outs': 1, 'effort': 'swinging'} W. Castro struck out swinging.\n",
      "{'player': 'Meadows', 'type': 'walked', 'at': 'first', 'moves': [{'player': 'H. Castro', 'type': 'advanced', 'at': 'second'}, {'player': 'Báez', 'type': 'out', 'at': 'not-available'}], 'outs': 1, 'issues': ['move.at']} Meadows walked, H. Castro to second. Báez struck out swinging.\n",
      "{'player': 'Báez', 'type': 'struck out', 'outs': 1, 'effort': 'swinging'} Báez struck out swinging.\n",
      "{'type': 'throwing error', 'moves': [{'player': 'Reyes', 'type': 'advanced', 'at': 'home', 'how': 'throwing error', 'by': 'Cease'}, {'player': 'H Castro', 'type': 'advanced', 'at': 'third'}, {'player': 'Meadows', 'type': 'advanced', 'at': 'second'}], 'runs': 1} Reyes scored on throwing error by pitcher Cease, H Castro to third, Meadows to second.\n",
      "{'outs': 1, 'player': 'Grossman', 'type': 'flied out', 'at': 'right'} Grossman flied out to right.\n"
     ]
    }
   ],
   "source": [
    "from copy import deepcopy\n",
    "\n",
    "\n",
    "for game in games:\n",
    "    if game['id'] == '401355157':\n",
    "        for period in game['periods']:\n",
    "\n",
    "\n",
    "            if period['id'] == 'bottom-1':\n",
    "                print(period['score'])\n",
    "                for event in period['events']:\n",
    "                    t = deepcopy(event)\n",
    "                    if 'pitches' in t:\n",
    "                        del t['pitches']\n",
    "                    print(t['entities'], t['desc'])\n"
   ]
  }
 ],
 "metadata": {
  "kernelspec": {
   "display_name": "Python 3",
   "language": "python",
   "name": "python3"
  },
  "language_info": {
   "codemirror_mode": {
    "name": "ipython",
    "version": 3
   },
   "file_extension": ".py",
   "mimetype": "text/x-python",
   "name": "python",
   "nbconvert_exporter": "python",
   "pygments_lexer": "ipython3",
   "version": "3.9.13"
  },
  "orig_nbformat": 4,
  "vscode": {
   "interpreter": {
    "hash": "aee8b7b246df8f9039afb4144a1f6fd8d2ca17a180786b69acc140d282b71a49"
   }
  }
 },
 "nbformat": 4,
 "nbformat_minor": 2
}
