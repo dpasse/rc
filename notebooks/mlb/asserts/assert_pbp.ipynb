{
 "cells": [
  {
   "cell_type": "code",
   "execution_count": 1,
   "metadata": {},
   "outputs": [],
   "source": [
    "import os\n",
    "import sys\n",
    "import json\n",
    "from collections import defaultdict\n",
    "import pandas as pd\n",
    "\n",
    "import sys\n",
    "sys.path.insert(0, '../../../pipelines/tasks/mlb/')\n",
    "\n",
    "from common.helpers.extractors import get_game_issues"
   ]
  },
  {
   "cell_type": "code",
   "execution_count": null,
   "metadata": {},
   "outputs": [],
   "source": []
  },
  {
   "cell_type": "code",
   "execution_count": 3,
   "metadata": {},
   "outputs": [
    {
     "data": {
      "text/html": [
       "<div>\n",
       "<style scoped>\n",
       "    .dataframe tbody tr th:only-of-type {\n",
       "        vertical-align: middle;\n",
       "    }\n",
       "\n",
       "    .dataframe tbody tr th {\n",
       "        vertical-align: top;\n",
       "    }\n",
       "\n",
       "    .dataframe thead th {\n",
       "        text-align: right;\n",
       "    }\n",
       "</style>\n",
       "<table border=\"1\" class=\"dataframe\">\n",
       "  <thead>\n",
       "    <tr style=\"text-align: right;\">\n",
       "      <th></th>\n",
       "      <th>WIN</th>\n",
       "      <th>SCORE</th>\n",
       "    </tr>\n",
       "    <tr>\n",
       "      <th>GAME_ID</th>\n",
       "      <th></th>\n",
       "      <th></th>\n",
       "    </tr>\n",
       "  </thead>\n",
       "  <tbody>\n",
       "    <tr>\n",
       "      <th>401427971</th>\n",
       "      <td>L</td>\n",
       "      <td>2-1</td>\n",
       "    </tr>\n",
       "    <tr>\n",
       "      <th>401354277</th>\n",
       "      <td>L</td>\n",
       "      <td>4-3</td>\n",
       "    </tr>\n",
       "    <tr>\n",
       "      <th>401354292</th>\n",
       "      <td>W</td>\n",
       "      <td>10-4</td>\n",
       "    </tr>\n",
       "    <tr>\n",
       "      <th>401354303</th>\n",
       "      <td>W</td>\n",
       "      <td>4-0</td>\n",
       "    </tr>\n",
       "    <tr>\n",
       "      <th>401354312</th>\n",
       "      <td>L</td>\n",
       "      <td>7-2</td>\n",
       "    </tr>\n",
       "  </tbody>\n",
       "</table>\n",
       "</div>"
      ],
      "text/plain": [
       "          WIN SCORE\n",
       "GAME_ID            \n",
       "401427971   L   2-1\n",
       "401354277   L   4-3\n",
       "401354292   W  10-4\n",
       "401354303   W   4-0\n",
       "401354312   L   7-2"
      ]
     },
     "execution_count": 3,
     "metadata": {},
     "output_type": "execute_result"
    }
   ],
   "source": [
    "df = pd.read_csv('../../../data/mlb/schedules.csv', index_col=None)\n",
    "df = df[df.GAME_ID.isin(df.GAME_ID.dropna().tolist())]\n",
    "df.GAME_ID = df.GAME_ID.astype(int)\n",
    "\n",
    "df['WIN'] = df['RESULT'].map(lambda a: a[0])\n",
    "\n",
    "import re\n",
    "def get_score(score):\n",
    "    match = re.search(r'\\d+-\\d+', score)\n",
    "    return match.group(0)\n",
    "\n",
    "df['SCORE'] = df['RESULT'].map(get_score)\n",
    "\n",
    "df = df.loc[:, ['GAME_ID', 'WIN', 'SCORE']]\n",
    "df = df.set_index(['GAME_ID'])\n",
    "df.head()"
   ]
  },
  {
   "cell_type": "code",
   "execution_count": null,
   "metadata": {},
   "outputs": [],
   "source": []
  },
  {
   "cell_type": "code",
   "execution_count": 4,
   "metadata": {},
   "outputs": [],
   "source": [
    "games = []\n",
    "for file in os.listdir('../../../data/mlb/pbp/'):\n",
    "    with open(f'../../../data/mlb/pbp/{file}', 'r', encoding='UTF8') as pbp_input:\n",
    "        game = json.load(pbp_input)\n",
    "\n",
    "    games.append(game)"
   ]
  },
  {
   "cell_type": "code",
   "execution_count": null,
   "metadata": {},
   "outputs": [],
   "source": []
  },
  {
   "cell_type": "code",
   "execution_count": 5,
   "metadata": {},
   "outputs": [
    {
     "name": "stdout",
     "output_type": "stream",
     "text": [
      "issues:\n",
      "{'id': '401355366', 'periods': [{'id': 'top-10', 'issues': ['bases'], 'events': []}]}\n",
      "issues:\n",
      "{'id': '401355249', 'periods': [{'id': 'top-10', 'issues': ['bases'], 'events': []}]}\n",
      "issues:\n",
      "{'id': '401354277', 'periods': [{'id': 'bottom-1', 'issues': [], 'events': [{'id': 10, 'issues': ['order']}]}]}\n"
     ]
    }
   ],
   "source": [
    "for game in games:\n",
    "\n",
    "    runs = defaultdict(lambda: 0)\n",
    "\n",
    "    for period in game['periods']:\n",
    "        runs[period['atBat']] += sum(\n",
    "            event['entities']['runs'] if 'runs' in event['entities'] else 0\n",
    "            for event in period['events']\n",
    "        )\n",
    "\n",
    "        for event in period['events']:\n",
    "            if 'isInfoPlay' in event:\n",
    "                continue\n",
    "\n",
    "    score = df.loc[int(game['id'])].SCORE\n",
    "    current_game_score = '-'.join(\n",
    "        list(map(str, sorted(runs.values(), reverse=True)))\n",
    "    )\n",
    "\n",
    "    if score != current_game_score:\n",
    "        print('bad score:')\n",
    "        print(game['id'], score, current_game_score)\n",
    "\n",
    "    issues = get_game_issues(game)\n",
    "    if any(issues['periods']):\n",
    "        print('issues:')\n",
    "        print(issues)"
   ]
  },
  {
   "cell_type": "code",
   "execution_count": null,
   "metadata": {},
   "outputs": [],
   "source": []
  }
 ],
 "metadata": {
  "kernelspec": {
   "display_name": "Python 3",
   "language": "python",
   "name": "python3"
  },
  "language_info": {
   "codemirror_mode": {
    "name": "ipython",
    "version": 3
   },
   "file_extension": ".py",
   "mimetype": "text/x-python",
   "name": "python",
   "nbconvert_exporter": "python",
   "pygments_lexer": "ipython3",
   "version": "3.9.13"
  },
  "orig_nbformat": 4,
  "vscode": {
   "interpreter": {
    "hash": "aee8b7b246df8f9039afb4144a1f6fd8d2ca17a180786b69acc140d282b71a49"
   }
  }
 },
 "nbformat": 4,
 "nbformat_minor": 2
}
