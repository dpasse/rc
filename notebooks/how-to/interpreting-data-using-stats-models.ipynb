{
 "cells": [
  {
   "cell_type": "code",
   "execution_count": null,
   "metadata": {},
   "outputs": [],
   "source": []
  },
  {
   "cell_type": "code",
   "execution_count": null,
   "metadata": {},
   "outputs": [],
   "source": []
  },
  {
   "attachments": {},
   "cell_type": "markdown",
   "metadata": {},
   "source": [
    "notes:\n",
    "statistics - a branch of mathmatics that deals with collecting, organizing, analzying, and interpreting data.\n",
    "\n",
    "two sets of statistical tools\n",
    "1. descriptive - identify important elements in a dataset\n",
    "  - univariate\n",
    "    - single variable\n",
    "      - frequency tables - how often something occurs (histogram)\n",
    "      - central tendency - typical value (average / median / mode)\n",
    "      - dispersion - how your data jumps around (range / inter-quartile range / standard deviation / variance)\n",
    "  - bivariate\n",
    "    - two variables\n",
    "      - look at the strength that exists between these two variables\n",
    "      - correlation\n",
    "        - function of covariance, standardized\n",
    "      - covariance\n",
    "        - measures strength as well as the direction of the linear relationship\n",
    "  - multivariate\n",
    "    - correlation / covariance matrix\n",
    "\n",
    "2. inferential - explain those elements via reationshps with other elements (formulate explanations)\n",
    "  - hypthesis testing\n",
    "    - proposed explanation, objectively testable\n",
    "      1. null hypothesis (true until proven false - start with assuming no relationship exists)\n",
    "        - always posits no relationship exists.\n",
    "        - always assume null is correct until proven otherwise\n",
    "      2. allternative hypothesis - asserts a specific relationship\n",
    "      3. select a test - to prove / disprove\n",
    "      4. apply test, get test statistic -> convert to p-value... is it random luck or signification...\n",
    "      5. choose theshold\n",
    "      6. accept / reject - threshold for luck is a threshold. p-value <5% chance... reject\n",
    "  - model fitting\n",
    "\n",
    "Example: \n",
    "  - can the lady tell if tea was added before or after the milk?\n",
    "\n",
    "    1. Null Hypothesis is 'the lady cannot tell if milk was poured first.'\n",
    "    2. Alternative Hypothesis is 'the lady can tell if milk was poured first'\n",
    "    3. Select Test - lady given 8 cups - 4 of each type...\n",
    "      - results: she got all 8 correct\n",
    "    4. Test Statistic - p-vaue = 1/70 = 1.4% (where 70 possible combinations exist = 8 combinations of 4)\n",
    "      - guessing means she had a 1.4% of getting any right\n",
    "    5. Significance level set at - 5%\n",
    "    6. 1.4% < 5% => reject null hypothesis (she could tell the difference)\n",
    "\n",
    "- type 1 error - reject null but it is true\n",
    "- type 2 error - accept null but it is false\n",
    "\n",
    "\n",
    "\n",
    "\n",
    "\n",
    "\n",
    "\n",
    "\n",
    "\n",
    "\n",
    "\n",
    "\n",
    "\n",
    "\n",
    "\n",
    "\n"
   ]
  },
  {
   "cell_type": "code",
   "execution_count": null,
   "metadata": {},
   "outputs": [],
   "source": []
  }
 ],
 "metadata": {
  "kernelspec": {
   "display_name": "rc",
   "language": "python",
   "name": "python3"
  },
  "language_info": {
   "name": "python",
   "version": "3.9.13 (main, May 24 2022, 21:28:31) \n[Clang 13.1.6 (clang-1316.0.21.2)]"
  },
  "orig_nbformat": 4,
  "vscode": {
   "interpreter": {
    "hash": "95020b902a2df746e83905ddddf9b388e83686c9ac0c7e3287244bbc1a1e2884"
   }
  }
 },
 "nbformat": 4,
 "nbformat_minor": 2
}
